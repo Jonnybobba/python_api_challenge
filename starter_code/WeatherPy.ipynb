{
 "cells": [
  {
   "cell_type": "markdown",
   "metadata": {},
   "source": [
    "# WeatherPy\n",
    "----\n",
    "\n",
    "#### Note\n",
    "* Instructions have been included for each segment. You do not have to follow them exactly, but they are included to help you think through the steps."
   ]
  },
  {
   "cell_type": "code",
   "execution_count": 1,
   "metadata": {
    "scrolled": true
   },
   "outputs": [],
   "source": [
    "# Dependencies and Setup\n",
    "import matplotlib.pyplot as plt\n",
    "import pandas as pd\n",
    "import numpy as np\n",
    "import requests\n",
    "import time\n",
    "from scipy.stats import linregress\n",
    "from pprint import pprint\n",
    "\n",
    "# Import API key\n",
    "from api_keys import weather_api_key\n",
    "\n",
    "# Incorporated citipy to determine city based on latitude and longitude\n",
    "from citipy import citipy\n",
    "\n",
    "# Output File (CSV)\n",
    "output_data_file = \"output_data/cities.csv\"\n",
    "\n",
    "# Range of latitudes and longitudes\n",
    "lat_range = (-90, 90)\n",
    "lng_range = (-180, 180)"
   ]
  },
  {
   "cell_type": "markdown",
   "metadata": {},
   "source": [
    "## Generate Cities List"
   ]
  },
  {
   "cell_type": "code",
   "execution_count": 2,
   "metadata": {},
   "outputs": [
    {
     "data": {
      "text/plain": [
       "592"
      ]
     },
     "execution_count": 2,
     "metadata": {},
     "output_type": "execute_result"
    }
   ],
   "source": [
    "# List for holding lat_lngs and cities\n",
    "lat_lngs = []\n",
    "cities = []\n",
    "\n",
    "# Create a set of random lat and lng combinations\n",
    "lats = np.random.uniform(lat_range[0], lat_range[1], size=1500)\n",
    "lngs = np.random.uniform(lng_range[0], lng_range[1], size=1500)\n",
    "lat_lngs = zip(lats, lngs)\n",
    "\n",
    "# Identify nearest city for each lat, lng combination\n",
    "for lat_lng in lat_lngs:\n",
    "    city = citipy.nearest_city(lat_lng[0], lat_lng[1]).city_name\n",
    "    \n",
    "    # If the city is unique, then add it to a our cities list\n",
    "    if city not in cities:\n",
    "        cities.append(city)\n",
    "\n",
    "# Print the city count to confirm sufficient count\n",
    "len(cities)"
   ]
  },
  {
   "cell_type": "markdown",
   "metadata": {},
   "source": [
    "### Perform API Calls\n",
    "* Perform a weather check on each city using a series of successive API calls.\n",
    "* Include a print log of each city as it'sbeing processed (with the city number and city name).\n"
   ]
  },
  {
   "cell_type": "code",
   "execution_count": 3,
   "metadata": {},
   "outputs": [
    {
     "name": "stdout",
     "output_type": "stream",
     "text": [
      "1.93\n"
     ]
    }
   ],
   "source": [
    "# Test requests command and outline for api\n",
    "response = requests.get(\"http://api.openweathermap.org/data/2.5/weather?q=\"+cities[27]+\"&appid=\" + weather_api_key).json()\n",
    "pprint(response)"
   ]
  },
  {
   "cell_type": "code",
   "execution_count": 25,
   "metadata": {
    "scrolled": true
   },
   "outputs": [
    {
     "name": "stdout",
     "output_type": "stream",
     "text": [
      "Testing city number 0. tiznit found.\n",
      "Testing city number 1. guerrero negro found.\n",
      "could not find zhitikara.\n",
      "could not find taolanaro.\n",
      "Testing city number 4. dikson found.\n",
      "Testing city number 5. yellowknife found.\n",
      "Testing city number 6. ushuaia found.\n",
      "Testing city number 7. gamba found.\n",
      "Testing city number 8. sitka found.\n",
      "Testing city number 9. adrar found.\n",
      "Testing city number 10. libertador general san martin found.\n",
      "Testing city number 11. igrim found.\n",
      "Testing city number 12. torbay found.\n",
      "Testing city number 13. kapaa found.\n",
      "Testing city number 14. punta arenas found.\n",
      "Testing city number 15. longyearbyen found.\n",
      "Testing city number 16. grand gaube found.\n",
      "Testing city number 17. kruisfontein found.\n",
      "Testing city number 18. promissao found.\n",
      "Testing city number 19. novoaleksandrovsk found.\n",
      "Testing city number 20. ribeira grande found.\n",
      "Testing city number 21. bredasdorp found.\n",
      "Testing city number 22. tiksi found.\n",
      "Testing city number 23. carnarvon found.\n",
      "Testing city number 24. georgetown found.\n",
      "Testing city number 25. fortuna found.\n",
      "Testing city number 26. nanortalik found.\n",
      "Testing city number 27. angoche found.\n",
      "could not find barentsburg.\n",
      "Testing city number 29. santa isabel found.\n",
      "Testing city number 30. jamestown found.\n",
      "Testing city number 31. hermanus found.\n",
      "Testing city number 32. upernavik found.\n",
      "Testing city number 33. lasa found.\n",
      "Testing city number 34. ancud found.\n",
      "Testing city number 35. iracoubo found.\n",
      "could not find sentyabrskiy.\n",
      "could not find fort saint john.\n",
      "Testing city number 38. south patrick shores found.\n",
      "Testing city number 39. shenjiamen found.\n",
      "Testing city number 40. barrow found.\n",
      "Testing city number 41. mataura found.\n",
      "Testing city number 42. saskylakh found.\n",
      "Testing city number 43. butaritari found.\n",
      "Testing city number 44. fangshan found.\n",
      "Testing city number 45. dunedin found.\n",
      "could not find louisbourg.\n",
      "Testing city number 47. mezen found.\n",
      "Testing city number 48. albany found.\n",
      "Testing city number 49. klaksvik found.\n",
      "Testing city number 50. alofi found.\n",
      "Testing city number 51. colac found.\n",
      "Testing city number 52. hami found.\n",
      "Testing city number 53. rikitea found.\n",
      "Testing city number 54. kapit found.\n",
      "Testing city number 55. nikolskoye found.\n",
      "Testing city number 56. manzanillo found.\n",
      "Testing city number 57. cherskiy found.\n",
      "Testing city number 58. kokopo found.\n",
      "Testing city number 59. kenai found.\n",
      "Testing city number 60. new norfolk found.\n",
      "Testing city number 61. saint-philippe found.\n",
      "Testing city number 62. provideniya found.\n",
      "Testing city number 63. khani found.\n",
      "Testing city number 64. cape town found.\n",
      "Testing city number 65. pouebo found.\n",
      "Testing city number 66. souillac found.\n",
      "Testing city number 67. talnakh found.\n",
      "Testing city number 68. tezu found.\n",
      "Testing city number 69. lompoc found.\n",
      "Testing city number 70. busselton found.\n",
      "Testing city number 71. mahebourg found.\n",
      "Testing city number 72. port-gentil found.\n",
      "Testing city number 73. hilo found.\n",
      "Testing city number 74. manono found.\n",
      "Testing city number 75. arraial do cabo found.\n",
      "Testing city number 76. khatanga found.\n",
      "Testing city number 77. otuzco found.\n",
      "Testing city number 78. avarua found.\n",
      "Testing city number 79. faanui found.\n",
      "Testing city number 80. itoman found.\n",
      "Testing city number 81. esperance found.\n",
      "Testing city number 82. kavieng found.\n",
      "Testing city number 83. bluff found.\n",
      "Testing city number 84. port blair found.\n",
      "Testing city number 85. kodiak found.\n",
      "Testing city number 86. lorengau found.\n",
      "Testing city number 87. chokurdakh found.\n",
      "Testing city number 88. hobart found.\n",
      "Testing city number 89. tuatapere found.\n",
      "Testing city number 90. nieuw amsterdam found.\n",
      "Testing city number 91. mount isa found.\n",
      "Testing city number 92. qaanaaq found.\n",
      "Testing city number 93. vaini found.\n",
      "Testing city number 94. vardo found.\n",
      "Testing city number 95. okha found.\n",
      "Testing city number 96. vitim found.\n",
      "Testing city number 97. seoul found.\n",
      "Testing city number 98. jian found.\n",
      "Testing city number 99. evensk found.\n",
      "could not find amderma.\n",
      "Testing city number 101. bethel found.\n",
      "Testing city number 102. el rosario found.\n",
      "Testing city number 103. batsfjord found.\n",
      "Testing city number 104. east london found.\n",
      "Testing city number 105. ginir found.\n",
      "Testing city number 106. erdenet found.\n",
      "Testing city number 107. dundwaraganj found.\n",
      "Testing city number 108. san patricio found.\n",
      "Testing city number 109. bathsheba found.\n",
      "Testing city number 110. mount gambier found.\n",
      "Testing city number 111. port elizabeth found.\n",
      "could not find sumbawa.\n",
      "Testing city number 113. afua found.\n",
      "Testing city number 114. tuktoyaktuk found.\n",
      "Testing city number 115. pevek found.\n",
      "Testing city number 116. rocha found.\n",
      "Testing city number 117. leshukonskoye found.\n",
      "could not find nizhneyansk.\n",
      "Testing city number 119. argayash found.\n",
      "Testing city number 120. muli found.\n",
      "Testing city number 121. lagoa found.\n",
      "Testing city number 122. pniv found.\n",
      "Testing city number 123. clarence town found.\n",
      "Testing city number 124. atuona found.\n",
      "Testing city number 125. west point found.\n",
      "Testing city number 126. robat karim found.\n",
      "Testing city number 127. geraldton found.\n",
      "Testing city number 128. richards bay found.\n",
      "Testing city number 129. moussoro found.\n",
      "could not find grimari.\n",
      "Testing city number 131. port hardy found.\n",
      "Testing city number 132. bandarbeyla found.\n",
      "Testing city number 133. ponta do sol found.\n",
      "Testing city number 134. severo-kurilsk found.\n",
      "Testing city number 135. chuy found.\n",
      "Testing city number 136. dukat found.\n",
      "Testing city number 137. damietta found.\n",
      "Testing city number 138. airai found.\n",
      "Testing city number 139. kutum found.\n",
      "Testing city number 140. avera found.\n",
      "Testing city number 141. sovetskiy found.\n",
      "Testing city number 142. puerto escondido found.\n",
      "Testing city number 143. tasiilaq found.\n",
      "Testing city number 144. kirensk found.\n",
      "Testing city number 145. buta found.\n",
      "Testing city number 146. hambantota found.\n",
      "Testing city number 147. ibra found.\n",
      "Testing city number 148. anda found.\n",
      "Testing city number 149. hithadhoo found.\n",
      "Testing city number 150. shahr-e babak found.\n",
      "Testing city number 151. coquimbo found.\n",
      "Testing city number 152. bengkulu found.\n",
      "Testing city number 153. dinghai found.\n",
      "Testing city number 154. hasaki found.\n",
      "Testing city number 155. barma found.\n",
      "Testing city number 156. najran found.\n",
      "Testing city number 157. tabora found.\n",
      "Testing city number 158. lovozero found.\n",
      "Testing city number 159. krasnoarmeysk found.\n",
      "Testing city number 160. namatanai found.\n",
      "Testing city number 161. kaitangata found.\n",
      "Testing city number 162. coos bay found.\n",
      "Testing city number 163. mar del plata found.\n",
      "Testing city number 164. rio grande found.\n",
      "Testing city number 165. jutai found.\n",
      "Testing city number 166. yingkou found.\n",
      "could not find grand river south east.\n",
      "Testing city number 168. areosa found.\n",
      "Testing city number 169. jumla found.\n",
      "Testing city number 170. bowen found.\n",
      "Testing city number 171. bambous virieux found.\n",
      "Testing city number 172. broken hill found.\n",
      "could not find palabuhanratu.\n",
      "Testing city number 174. iqaluit found.\n",
      "Testing city number 175. saint george found.\n",
      "could not find rungata.\n",
      "Testing city number 177. vaitape found.\n",
      "Testing city number 178. uruzgan found.\n",
      "Testing city number 179. lata found.\n",
      "Testing city number 180. san cristobal found.\n",
      "Testing city number 181. roma found.\n",
      "Testing city number 182. sao joao da barra found.\n",
      "Testing city number 183. nishihara found.\n",
      "Testing city number 184. lashio found.\n",
      "could not find vaitupu.\n",
      "Testing city number 186. khambhat found.\n",
      "Testing city number 187. yerbogachen found.\n",
      "Testing city number 188. kautokeino found.\n",
      "Testing city number 189. svetlyy found.\n",
      "Testing city number 190. khipro found.\n",
      "Testing city number 191. taunggyi found.\n",
      "Testing city number 192. ahipara found.\n",
      "could not find mys shmidta.\n",
      "Testing city number 194. alamos found.\n",
      "Testing city number 195. almeirim found.\n",
      "Testing city number 196. kholtoson found.\n",
      "Testing city number 197. dondo found.\n",
      "Testing city number 198. riyadh found.\n",
      "Testing city number 199. kungurtug found.\n",
      "Testing city number 200. qaqortoq found.\n",
      "Testing city number 201. clyde found.\n",
      "Testing city number 202. yeppoon found.\n",
      "Testing city number 203. taltal found.\n",
      "Testing city number 204. magole found.\n",
      "Testing city number 205. reshetylivka found.\n",
      "Testing city number 206. zanesville found.\n"
     ]
    },
    {
     "name": "stdout",
     "output_type": "stream",
     "text": [
      "could not find tabiauea.\n",
      "Testing city number 208. mackay found.\n",
      "Testing city number 209. emerald found.\n",
      "Testing city number 210. road town found.\n",
      "Testing city number 211. karratha found.\n",
      "Testing city number 212. sergeyevka found.\n",
      "Testing city number 213. caravelas found.\n",
      "Testing city number 214. greenville found.\n",
      "could not find warqla.\n",
      "Testing city number 216. tynset found.\n",
      "Testing city number 217. aztec found.\n",
      "Testing city number 218. tabas found.\n",
      "Testing city number 219. taoudenni found.\n",
      "Testing city number 220. bontang found.\n",
      "Testing city number 221. ilulissat found.\n",
      "Testing city number 222. jalingo found.\n",
      "Testing city number 223. banff found.\n",
      "Testing city number 224. watsa found.\n",
      "Testing city number 225. viedma found.\n",
      "Testing city number 226. grindavik found.\n",
      "Testing city number 227. pampa found.\n",
      "Testing city number 228. norman wells found.\n",
      "Testing city number 229. chabahar found.\n",
      "Testing city number 230. maragogi found.\n",
      "Testing city number 231. biak found.\n",
      "Testing city number 232. kamaishi found.\n",
      "Testing city number 233. inhambane found.\n",
      "could not find illoqqortoormiut.\n",
      "Testing city number 235. patur found.\n",
      "Testing city number 236. port alfred found.\n",
      "Testing city number 237. tenenkou found.\n",
      "Testing city number 238. belaya gora found.\n",
      "Testing city number 239. whitburn found.\n",
      "Testing city number 240. lebu found.\n",
      "could not find tumannyy.\n",
      "Testing city number 242. cabedelo found.\n",
      "Testing city number 243. thompson found.\n",
      "Testing city number 244. tzucacab found.\n",
      "Testing city number 245. codrington found.\n",
      "Testing city number 246. beringovskiy found.\n",
      "Testing city number 247. tilichiki found.\n",
      "could not find samusu.\n",
      "Testing city number 249. sioux lookout found.\n",
      "Testing city number 250. zolotonosha found.\n",
      "Testing city number 251. cidreira found.\n",
      "Testing city number 252. college found.\n",
      "Testing city number 253. nouakchott found.\n",
      "Testing city number 254. takoradi found.\n",
      "Testing city number 255. cockburn town found.\n",
      "Testing city number 256. vila franca do campo found.\n",
      "Testing city number 257. mayo found.\n",
      "Testing city number 258. atar found.\n",
      "Testing city number 259. knappskog found.\n",
      "Testing city number 260. chatra found.\n",
      "Testing city number 261. sarny found.\n",
      "Testing city number 262. cabo san lucas found.\n",
      "Testing city number 263. comodoro rivadavia found.\n",
      "Testing city number 264. kandi found.\n",
      "Testing city number 265. puerto ayora found.\n",
      "could not find buqayq.\n",
      "Testing city number 267. huarmey found.\n",
      "could not find tsihombe.\n",
      "Testing city number 269. ilhabela found.\n",
      "Testing city number 270. ostrovnoy found.\n",
      "Testing city number 271. venice found.\n",
      "Testing city number 272. wana found.\n",
      "Testing city number 273. nome found.\n",
      "Testing city number 274. xam nua found.\n",
      "Testing city number 275. kushima found.\n",
      "Testing city number 276. el alto found.\n",
      "Testing city number 277. vagamo found.\n",
      "Testing city number 278. kodinsk found.\n",
      "Testing city number 279. oistins found.\n",
      "Testing city number 280. pendleton found.\n",
      "Testing city number 281. egvekinot found.\n",
      "Testing city number 282. pyaozerskiy found.\n",
      "Testing city number 283. neuquen found.\n",
      "Testing city number 284. henties bay found.\n",
      "Testing city number 285. dhidhdhoo found.\n",
      "Testing city number 286. derzhavinsk found.\n",
      "Testing city number 287. mareeba found.\n",
      "Testing city number 288. vao found.\n",
      "Testing city number 289. san francisco found.\n",
      "Testing city number 290. kuvshinovo found.\n",
      "Testing city number 291. geisenheim found.\n",
      "Testing city number 292. sambava found.\n",
      "Testing city number 293. dalvik found.\n",
      "Testing city number 294. isangel found.\n",
      "Testing city number 295. aswan found.\n",
      "Testing city number 296. la plata found.\n",
      "Testing city number 297. cervo found.\n",
      "Testing city number 298. krasnoselkup found.\n",
      "Testing city number 299. kozhva found.\n",
      "Testing city number 300. san jeronimo found.\n",
      "Testing city number 301. port shepstone found.\n",
      "could not find galgani.\n",
      "Testing city number 303. champerico found.\n",
      "Testing city number 304. springfield found.\n",
      "Testing city number 305. chumikan found.\n",
      "Testing city number 306. nelson bay found.\n",
      "Testing city number 307. yumen found.\n",
      "could not find saleaula.\n",
      "Testing city number 309. khasan found.\n",
      "Testing city number 310. pangai found.\n",
      "Testing city number 311. mastic beach found.\n",
      "could not find koboldo.\n",
      "Testing city number 313. ossora found.\n",
      "Testing city number 314. itarema found.\n",
      "Testing city number 315. coihaique found.\n",
      "Testing city number 316. kristinehamn found.\n",
      "Testing city number 317. sayat found.\n",
      "Testing city number 318. vila velha found.\n",
      "Testing city number 319. vancouver found.\n",
      "Testing city number 320. peace river found.\n",
      "Testing city number 321. springbok found.\n",
      "Testing city number 322. alekseyevsk found.\n",
      "Testing city number 323. camocim found.\n",
      "Testing city number 324. weiser found.\n",
      "Testing city number 325. port hedland found.\n",
      "Testing city number 326. bara found.\n",
      "Testing city number 327. karpathos found.\n",
      "Testing city number 328. kayes found.\n",
      "Testing city number 329. chauk found.\n",
      "Testing city number 330. ipoh found.\n",
      "Testing city number 331. lazaro cardenas found.\n",
      "Testing city number 332. sosnogorsk found.\n",
      "Testing city number 333. ust-nera found.\n",
      "Testing city number 334. kargopol found.\n",
      "Testing city number 335. coahuayana found.\n",
      "Testing city number 336. payo found.\n",
      "Testing city number 337. hofn found.\n",
      "Testing city number 338. kahului found.\n",
      "Testing city number 339. alta floresta found.\n",
      "Testing city number 340. beloha found.\n",
      "Testing city number 341. lielvarde found.\n",
      "Testing city number 342. flinders found.\n",
      "Testing city number 343. walvis bay found.\n",
      "Testing city number 344. san quintin found.\n",
      "Testing city number 345. maun found.\n",
      "Testing city number 346. usinsk found.\n",
      "Testing city number 347. carmen found.\n",
      "Testing city number 348. roros found.\n",
      "Testing city number 349. seljord found.\n",
      "Testing city number 350. san juan del sur found.\n",
      "Testing city number 351. castro found.\n",
      "Testing city number 352. sonder bjert found.\n",
      "Testing city number 353. buraydah found.\n",
      "Testing city number 354. ulaangom found.\n",
      "Testing city number 355. shahr-e kord found.\n",
      "Testing city number 356. quito found.\n",
      "Testing city number 357. dafeng found.\n",
      "Testing city number 358. roald found.\n",
      "Testing city number 359. sinop found.\n",
      "Testing city number 360. xinyu found.\n",
      "Testing city number 361. labuhan found.\n",
      "Testing city number 362. manaure found.\n",
      "Testing city number 363. hamilton found.\n",
      "Testing city number 364. vila do maio found.\n",
      "Testing city number 365. yulara found.\n",
      "Testing city number 366. truckee found.\n",
      "could not find meyungs.\n",
      "Testing city number 368. bonavista found.\n",
      "Testing city number 369. merauke found.\n",
      "Testing city number 370. sao filipe found.\n",
      "could not find karmana.\n",
      "Testing city number 372. bull savanna found.\n",
      "Testing city number 373. anloga found.\n",
      "Testing city number 374. cayenne found.\n",
      "Testing city number 375. half moon bay found.\n",
      "Testing city number 376. lalmohan found.\n",
      "Testing city number 377. agadez found.\n",
      "Testing city number 378. yar-sale found.\n",
      "Testing city number 379. santo antonio do ica found.\n",
      "Testing city number 380. luderitz found.\n",
      "Testing city number 381. aksarka found.\n",
      "Testing city number 382. fernie found.\n",
      "Testing city number 383. tarut found.\n",
      "Testing city number 384. noumea found.\n",
      "Testing city number 385. qinzhou found.\n",
      "Testing city number 386. sawtell found.\n",
      "Testing city number 387. paramonga found.\n",
      "Testing city number 388. iisalmi found.\n",
      "Testing city number 389. kieta found.\n",
      "Testing city number 390. hoquiam found.\n",
      "Testing city number 391. singaraja found.\n",
      "Testing city number 392. scottsbluff found.\n",
      "Testing city number 393. nicoya found.\n",
      "could not find karkaralinsk.\n",
      "Testing city number 395. ifakara found.\n",
      "Testing city number 396. hermagor found.\n",
      "Testing city number 397. kavaratti found.\n",
      "Testing city number 398. kavaje found.\n",
      "Testing city number 399. bhadrak found.\n",
      "could not find attawapiskat.\n",
      "Testing city number 401. yablonovo found.\n",
      "Testing city number 402. thinadhoo found.\n",
      "Testing city number 403. saldanha found.\n",
      "Testing city number 404. bertem found.\n",
      "Testing city number 405. meulaboh found.\n",
      "Testing city number 406. jerez found.\n",
      "Testing city number 407. lavrentiya found.\n",
      "Testing city number 408. bremervorde found.\n",
      "Testing city number 409. pekan found.\n",
      "Testing city number 410. morvi found.\n",
      "Testing city number 411. touros found.\n",
      "Testing city number 412. terney found.\n"
     ]
    },
    {
     "name": "stdout",
     "output_type": "stream",
     "text": [
      "Testing city number 413. porto novo found.\n",
      "Testing city number 414. teguldet found.\n",
      "Testing city number 415. palmer found.\n",
      "could not find utiroa.\n",
      "Testing city number 417. iquique found.\n",
      "Testing city number 418. soyo found.\n",
      "Testing city number 419. husavik found.\n",
      "Testing city number 420. kirakira found.\n",
      "Testing city number 421. verkhnevilyuysk found.\n",
      "Testing city number 422. lhokseumawe found.\n",
      "could not find malwan.\n",
      "Testing city number 424. victoria point found.\n",
      "Testing city number 425. srednekolymsk found.\n",
      "Testing city number 426. saint anthony found.\n",
      "Testing city number 427. manta found.\n",
      "Testing city number 428. tibagi found.\n",
      "Testing city number 429. khash found.\n",
      "Testing city number 430. baracoa found.\n",
      "Testing city number 431. fare found.\n",
      "Testing city number 432. komsomolskiy found.\n",
      "Testing city number 433. paamiut found.\n",
      "Testing city number 434. veraval found.\n",
      "Testing city number 435. antalaha found.\n",
      "Testing city number 436. santa ana found.\n",
      "Testing city number 437. timra found.\n",
      "Testing city number 438. merk found.\n",
      "could not find achisay.\n",
      "Testing city number 440. keetmanshoop found.\n",
      "Testing city number 441. kolda found.\n",
      "Testing city number 442. pangnirtung found.\n",
      "could not find himora.\n",
      "Testing city number 444. quebrada larga found.\n",
      "Testing city number 445. faya found.\n",
      "Testing city number 446. perg found.\n",
      "Testing city number 447. okhotsk found.\n",
      "Testing city number 448. kjollefjord found.\n",
      "Testing city number 449. biltine found.\n",
      "Testing city number 450. san marcos found.\n",
      "Testing city number 451. bud found.\n",
      "Testing city number 452. dve mogili found.\n",
      "Testing city number 453. gorshechnoye found.\n",
      "Testing city number 454. dareda found.\n",
      "Testing city number 455. kitimat found.\n",
      "Testing city number 456. kholm-zhirkovskiy found.\n",
      "Testing city number 457. ambilobe found.\n",
      "Testing city number 458. nha trang found.\n",
      "Testing city number 459. mundo nuevo found.\n",
      "Testing city number 460. hualmay found.\n",
      "Testing city number 461. kosa found.\n",
      "Testing city number 462. kasama found.\n",
      "Testing city number 463. qiongshan found.\n",
      "Testing city number 464. suntar found.\n",
      "Testing city number 465. lahat found.\n",
      "Testing city number 466. haines junction found.\n",
      "Testing city number 467. saint-andre-les-vergers found.\n",
      "Testing city number 468. calvia found.\n",
      "Testing city number 469. fonte boa found.\n",
      "Testing city number 470. pitimbu found.\n",
      "Testing city number 471. hearst found.\n",
      "Testing city number 472. marabba found.\n",
      "Testing city number 473. jacmel found.\n",
      "could not find belushya guba.\n",
      "Testing city number 475. los llanos de aridane found.\n",
      "Testing city number 476. kattivakkam found.\n",
      "Testing city number 477. sembe found.\n",
      "Testing city number 478. bandundu found.\n",
      "Testing city number 479. nacala found.\n",
      "could not find kuche.\n",
      "could not find rawannawi.\n",
      "Testing city number 482. chapais found.\n",
      "Testing city number 483. nara found.\n",
      "Testing city number 484. clyde river found.\n",
      "Testing city number 485. margate found.\n",
      "Testing city number 486. nouadhibou found.\n",
      "Testing city number 487. tecoanapa found.\n",
      "Testing city number 488. kaeo found.\n",
      "Testing city number 489. luau found.\n",
      "Testing city number 490. sinnamary found.\n",
      "Testing city number 491. diapaga found.\n",
      "Testing city number 492. talara found.\n",
      "could not find bargal.\n",
      "Testing city number 494. victoria found.\n",
      "Testing city number 495. gravdal found.\n",
      "Testing city number 496. bubaque found.\n",
      "Testing city number 497. ayan found.\n",
      "Testing city number 498. mehamn found.\n",
      "Testing city number 499. funadhoo found.\n",
      "Testing city number 500. gorontalo found.\n",
      "Testing city number 501. olkhovka found.\n",
      "Testing city number 502. portland found.\n",
      "Testing city number 503. navrongo found.\n",
      "Testing city number 504. ipixuna found.\n",
      "Testing city number 505. rawson found.\n",
      "Testing city number 506. olinda found.\n",
      "could not find umzimvubu.\n",
      "Testing city number 508. kampot found.\n",
      "Testing city number 509. boyolangu found.\n",
      "Testing city number 510. camabatela found.\n",
      "Testing city number 511. port lincoln found.\n",
      "Testing city number 512. narsaq found.\n",
      "Testing city number 513. trat found.\n",
      "Testing city number 514. gogrial found.\n",
      "Testing city number 515. bilibino found.\n",
      "Testing city number 516. santa cruz de la palma found.\n",
      "Testing city number 517. katsuura found.\n",
      "Testing city number 518. deputatskiy found.\n",
      "Testing city number 519. sopot found.\n",
      "Testing city number 520. longonjo found.\n",
      "Testing city number 521. buala found.\n",
      "Testing city number 522. itarantim found.\n",
      "Testing city number 523. nabire found.\n",
      "Testing city number 524. orlik found.\n",
      "Testing city number 525. nemuro found.\n",
      "Testing city number 526. harper found.\n",
      "Testing city number 527. vanavara found.\n",
      "Testing city number 528. filingue found.\n",
      "Testing city number 529. cairns found.\n",
      "Testing city number 530. izumo found.\n",
      "Testing city number 531. acapulco found.\n",
      "could not find ruatoria.\n",
      "Testing city number 533. mont-de-marsan found.\n",
      "Testing city number 534. skibbereen found.\n",
      "Testing city number 535. progreso found.\n",
      "Testing city number 536. aklavik found.\n",
      "Testing city number 537. sur found.\n",
      "Testing city number 538. namibe found.\n",
      "Testing city number 539. morristown found.\n",
      "Testing city number 540. kintampo found.\n",
      "could not find kamenskoye.\n",
      "Testing city number 542. nizwa found.\n",
      "Testing city number 543. samarai found.\n",
      "Testing city number 544. capitan bado found.\n",
      "Testing city number 545. maneadero found.\n",
      "could not find mrirt.\n",
      "Testing city number 547. broome found.\n",
      "Testing city number 548. baykit found.\n",
      "Testing city number 549. lodja found.\n",
      "Testing city number 550. meridian found.\n",
      "could not find babanusah.\n",
      "Testing city number 552. gat found.\n",
      "Testing city number 553. aras found.\n",
      "Testing city number 554. axim found.\n",
      "Testing city number 555. simbahan found.\n",
      "Testing city number 556. sidi bin nur found.\n",
      "Testing city number 557. dingle found.\n",
      "Testing city number 558. kyzyl-suu found.\n",
      "Testing city number 559. patacamaya found.\n",
      "Testing city number 560. dombas found.\n",
      "Testing city number 561. majene found.\n",
      "Testing city number 562. arlit found.\n",
      "Testing city number 563. denpasar found.\n",
      "Testing city number 564. polyarnyy found.\n",
      "Testing city number 565. jinchang found.\n",
      "Testing city number 566. lithakia found.\n",
      "Testing city number 567. great yarmouth found.\n",
      "Testing city number 568. grajau found.\n",
      "Testing city number 569. manbij found.\n",
      "Testing city number 570. chute-aux-outardes found.\n",
      "Testing city number 571. elizabeth city found.\n",
      "Testing city number 572. phan thiet found.\n",
      "Testing city number 573. opuwo found.\n",
      "Testing city number 574. malpura found.\n",
      "Testing city number 575. salalah found.\n",
      "Testing city number 576. cabo rojo found.\n",
      "could not find banovce.\n",
      "Testing city number 578. perth found.\n",
      "Testing city number 579. kenora found.\n",
      "Testing city number 580. north platte found.\n",
      "could not find taburi.\n",
      "could not find eskasem.\n",
      "Testing city number 583. griffith found.\n",
      "Testing city number 584. huilong found.\n",
      "Testing city number 585. vestmanna found.\n",
      "Testing city number 586. las vegas found.\n",
      "Testing city number 587. hay river found.\n",
      "Testing city number 588. santa maria found.\n",
      "Testing city number 589. hurghada found.\n",
      "Testing city number 590. brejo santo found.\n",
      "Testing city number 591. dinagat found.\n"
     ]
    }
   ],
   "source": [
    "\n",
    "# Initialize arrays for results\n",
    "name = []\n",
    "Lat = []\n",
    "Lng = []\n",
    "Max_Temp = []\n",
    "Humidity = []\n",
    "Cloudiness = []\n",
    "Wind_Speed = []\n",
    "Country = []\n",
    "Date = []\n",
    "\n",
    "# Run though all cities and export results to arrays\n",
    "# Try&Except to remove cities without results\n",
    "for city in range(len(cities)):\n",
    "    try:\n",
    "        response = requests.get(\"http://api.openweathermap.org/data/2.5/weather?q=\"+cities[city]+\"&appid=\" + weather_api_key +\"&units=imperial\").json()\n",
    "        city_name = response[\"name\"]\n",
    "        latitude = response[\"coord\"][\"lat\"]\n",
    "        longitude = response[\"coord\"][\"lon\"]\n",
    "        temp = response[\"main\"][\"temp_max\"]\n",
    "        hum = response[\"main\"][\"humidity\"]\n",
    "        cloud = response[\"clouds\"][\"all\"]\n",
    "        count = response[\"sys\"][\"country\"]\n",
    "        speed = response[\"wind\"][\"speed\"]\n",
    "        dt = response[\"dt\"]\n",
    "        \n",
    "        name.append(city_name)\n",
    "        Lat.append(latitude)\n",
    "        Lng.append(longitude)\n",
    "        Max_Temp.append(temp)\n",
    "        Humidity.append(hum)\n",
    "        Cloudiness.append(cloud)\n",
    "        Country.append(count)\n",
    "        Wind_Speed.append(speed)\n",
    "        Date.append(dt)\n",
    "        print(\"Testing city number \" + str(city) + \". \" + cities[city] + \" found.\")\n",
    "    except:\n",
    "        print(\"could not find \" +cities[city]+ \".\")\n",
    "\n",
    "        \n"
   ]
  },
  {
   "cell_type": "markdown",
   "metadata": {},
   "source": [
    "### Convert Raw Data to DataFrame\n",
    "* Export the city data into a .csv.\n",
    "* Display the DataFrame"
   ]
  },
  {
   "cell_type": "code",
   "execution_count": 26,
   "metadata": {},
   "outputs": [
    {
     "name": "stdout",
     "output_type": "stream",
     "text": [
      "547\n",
      "547\n",
      "547\n",
      "547\n",
      "547\n",
      "547\n",
      "547\n",
      "547\n",
      "547\n"
     ]
    }
   ],
   "source": [
    "# Checking if all arrays have same length\n",
    "print(len(name)) \n",
    "print(len(Lat)) \n",
    "print(len(Lng)) \n",
    "print(len(Max_Temp)) \n",
    "print(len(Humidity)) \n",
    "print(len(Cloudiness)) \n",
    "print(len(Wind_Speed)) \n",
    "print(len(Country)) \n",
    "print(len(Date))\n"
   ]
  },
  {
   "cell_type": "code",
   "execution_count": 27,
   "metadata": {
    "scrolled": true
   },
   "outputs": [
    {
     "data": {
      "text/html": [
       "<div>\n",
       "<style scoped>\n",
       "    .dataframe tbody tr th:only-of-type {\n",
       "        vertical-align: middle;\n",
       "    }\n",
       "\n",
       "    .dataframe tbody tr th {\n",
       "        vertical-align: top;\n",
       "    }\n",
       "\n",
       "    .dataframe thead th {\n",
       "        text-align: right;\n",
       "    }\n",
       "</style>\n",
       "<table border=\"1\" class=\"dataframe\">\n",
       "  <thead>\n",
       "    <tr style=\"text-align: right;\">\n",
       "      <th></th>\n",
       "      <th>City</th>\n",
       "      <th>Lat</th>\n",
       "      <th>Lng</th>\n",
       "      <th>Max_Temp</th>\n",
       "      <th>Humidity</th>\n",
       "      <th>Cloudiness</th>\n",
       "      <th>Wind_Speed</th>\n",
       "      <th>Country</th>\n",
       "      <th>Date</th>\n",
       "    </tr>\n",
       "  </thead>\n",
       "  <tbody>\n",
       "    <tr>\n",
       "      <th>0</th>\n",
       "      <td>Tiznit Province</td>\n",
       "      <td>29.58</td>\n",
       "      <td>-9.50</td>\n",
       "      <td>63.73</td>\n",
       "      <td>84</td>\n",
       "      <td>67</td>\n",
       "      <td>0.87</td>\n",
       "      <td>MA</td>\n",
       "      <td>1603258404</td>\n",
       "    </tr>\n",
       "    <tr>\n",
       "      <th>1</th>\n",
       "      <td>Guerrero Negro</td>\n",
       "      <td>27.98</td>\n",
       "      <td>-114.06</td>\n",
       "      <td>68.34</td>\n",
       "      <td>90</td>\n",
       "      <td>0</td>\n",
       "      <td>9.24</td>\n",
       "      <td>MX</td>\n",
       "      <td>1603258404</td>\n",
       "    </tr>\n",
       "    <tr>\n",
       "      <th>2</th>\n",
       "      <td>Dikson</td>\n",
       "      <td>73.51</td>\n",
       "      <td>80.55</td>\n",
       "      <td>24.91</td>\n",
       "      <td>97</td>\n",
       "      <td>95</td>\n",
       "      <td>5.41</td>\n",
       "      <td>RU</td>\n",
       "      <td>1603258405</td>\n",
       "    </tr>\n",
       "    <tr>\n",
       "      <th>3</th>\n",
       "      <td>Yellowknife</td>\n",
       "      <td>62.46</td>\n",
       "      <td>-114.35</td>\n",
       "      <td>23.00</td>\n",
       "      <td>73</td>\n",
       "      <td>90</td>\n",
       "      <td>9.17</td>\n",
       "      <td>CA</td>\n",
       "      <td>1603258290</td>\n",
       "    </tr>\n",
       "    <tr>\n",
       "      <th>4</th>\n",
       "      <td>Ushuaia</td>\n",
       "      <td>-54.80</td>\n",
       "      <td>-68.30</td>\n",
       "      <td>39.20</td>\n",
       "      <td>86</td>\n",
       "      <td>40</td>\n",
       "      <td>8.34</td>\n",
       "      <td>AR</td>\n",
       "      <td>1603258405</td>\n",
       "    </tr>\n",
       "  </tbody>\n",
       "</table>\n",
       "</div>"
      ],
      "text/plain": [
       "              City    Lat     Lng  Max_Temp  Humidity  Cloudiness  Wind_Speed  \\\n",
       "0  Tiznit Province  29.58   -9.50     63.73        84          67        0.87   \n",
       "1   Guerrero Negro  27.98 -114.06     68.34        90           0        9.24   \n",
       "2           Dikson  73.51   80.55     24.91        97          95        5.41   \n",
       "3      Yellowknife  62.46 -114.35     23.00        73          90        9.17   \n",
       "4          Ushuaia -54.80  -68.30     39.20        86          40        8.34   \n",
       "\n",
       "  Country        Date  \n",
       "0      MA  1603258404  \n",
       "1      MX  1603258404  \n",
       "2      RU  1603258405  \n",
       "3      CA  1603258290  \n",
       "4      AR  1603258405  "
      ]
     },
     "execution_count": 27,
     "metadata": {},
     "output_type": "execute_result"
    }
   ],
   "source": [
    "# Combine arrays to form a result data frame\n",
    "data = pd.DataFrame({\"City\": name,\n",
    "                     \"Lat\": Lat,\n",
    "                     \"Lng\": Lng,\n",
    "                     \"Max_Temp\": Max_Temp,\n",
    "                     \"Humidity\": Humidity,\n",
    "                     \"Cloudiness\": Cloudiness,\n",
    "                     \"Wind_Speed\": Wind_Speed,\n",
    "                     \"Country\": Country,\n",
    "                     \"Date\": Date})\n",
    "data.head()"
   ]
  },
  {
   "cell_type": "code",
   "execution_count": 28,
   "metadata": {},
   "outputs": [],
   "source": [
    "# Export to CSV\n",
    "data.to_csv(\"../output_data/cities.csv\")"
   ]
  },
  {
   "cell_type": "markdown",
   "metadata": {},
   "source": [
    "## Inspect the data and remove the cities where the humidity > 100%.\n",
    "----\n",
    "Skip this step if there are no cities that have humidity > 100%. "
   ]
  },
  {
   "cell_type": "code",
   "execution_count": 29,
   "metadata": {
    "scrolled": true
   },
   "outputs": [
    {
     "data": {
      "text/plain": [
       "array([ 84,  90,  97,  73,  86,  88,  20,  65,  95,  87,  74,  68,  60,\n",
       "        64,  93,  92,  62,  91, 100,  78,  98,  80,  81,  69,  96,  75,\n",
       "        17,  85,  22,  76,  44,  45,  58,  70,  46,  82,  94,  79,  83,\n",
       "        52,  13,  67,  55,  71,  56,  50,  14,  49,  77,  63,   9,  41,\n",
       "        66,  47,  21,  48,  16,  15,  89,  11,  26,  72,  54,  33,  32,\n",
       "        23,  59,  34,  29,  61,  99,  36,  57,  18,  27,  51,  28,  37,\n",
       "         8,  53,  30,  40,  31], dtype=int64)"
      ]
     },
     "execution_count": 29,
     "metadata": {},
     "output_type": "execute_result"
    }
   ],
   "source": [
    "# Checking for values over 100\n",
    "data[\"Humidity\"].unique()"
   ]
  },
  {
   "cell_type": "markdown",
   "metadata": {},
   "source": [
    "No humidity value over 100; therefore, we skip this step.\n"
   ]
  },
  {
   "cell_type": "markdown",
   "metadata": {},
   "source": [
    "## Plotting the Data\n",
    "* Use proper labeling of the plots using plot titles (including date of analysis) and axes labels.\n",
    "* Save the plotted figures as .pngs."
   ]
  },
  {
   "cell_type": "markdown",
   "metadata": {},
   "source": [
    "## Latitude vs. Temperature Plot"
   ]
  },
  {
   "cell_type": "code",
   "execution_count": 32,
   "metadata": {
    "scrolled": true
   },
   "outputs": [
    {
     "data": {
      "image/png": "[encoded data removed]",
      "text/plain": [
       "<Figure size 432x288 with 1 Axes>"
      ]
     },
     "metadata": {
      "needs_background": "light"
     },
     "output_type": "display_data"
    }
   ],
   "source": [
    "data.plot.scatter(x = \"Lat\", y = \"Max_Temp\")\n",
    "plt.title(\"Temperature (F) vs. Latitude\")\n",
    "plt.savefig(\"../output_data/Fig1.png\")"
   ]
  },
  {
   "cell_type": "markdown",
   "metadata": {},
   "source": [
    "This plot is comparing the latitude of the city and its max temperature. One can see that as the latitude approaches 0 degress, or the equator, the temperature reaches a peak."
   ]
  },
  {
   "cell_type": "markdown",
   "metadata": {},
   "source": [
    "## Latitude vs. Humidity Plot"
   ]
  },
  {
   "cell_type": "code",
   "execution_count": 33,
   "metadata": {},
   "outputs": [
    {
     "data": {
      "image/png": "[encoded data removed]",
      "text/plain": [
       "<Figure size 432x288 with 1 Axes>"
      ]
     },
     "metadata": {
      "needs_background": "light"
     },
     "output_type": "display_data"
    }
   ],
   "source": [
    "data.plot.scatter(x = \"Lat\", y = \"Humidity\")\n",
    "plt.title(\"Humidity (%) vs. Latitude\")\n",
    "plt.savefig(\"../output_data/Fig2.png\")"
   ]
  },
  {
   "cell_type": "markdown",
   "metadata": {},
   "source": [
    "This plot is comparing the latitude of the city and its humidity. One can see that the higher the latitude, the tighter the distribution of humidity for cities. Likewise the further north the city is located the more humid likely it is to be humid."
   ]
  },
  {
   "cell_type": "markdown",
   "metadata": {},
   "source": [
    "## Latitude vs. Cloudiness Plot"
   ]
  },
  {
   "cell_type": "code",
   "execution_count": 34,
   "metadata": {},
   "outputs": [
    {
     "data": {
      "image/png": "[encoded data removed]",
      "text/plain": [
       "<Figure size 432x288 with 1 Axes>"
      ]
     },
     "metadata": {
      "needs_background": "light"
     },
     "output_type": "display_data"
    }
   ],
   "source": [
    "data.plot.scatter(x = \"Lat\", y = \"Cloudiness\")\n",
    "plt.title(\"Cloudiness (%) vs. Latitude\")\n",
    "plt.savefig(\"../output_data/Fig3.png\")"
   ]
  },
  {
   "cell_type": "markdown",
   "metadata": {},
   "source": [
    "This plot is comparing the latitude of the city and its percentage of cloud cover. Like the previous plot for humidity as the latitude increases so to does the amount of clouds in the sky."
   ]
  },
  {
   "cell_type": "markdown",
   "metadata": {},
   "source": [
    "## Latitude vs. Wind Speed Plot"
   ]
  },
  {
   "cell_type": "code",
   "execution_count": 35,
   "metadata": {},
   "outputs": [
    {
     "data": {
      "image/png": "[encoded data removed]",
      "text/plain": [
       "<Figure size 432x288 with 1 Axes>"
      ]
     },
     "metadata": {
      "needs_background": "light"
     },
     "output_type": "display_data"
    }
   ],
   "source": [
    "data.plot.scatter(x = \"Lat\", y = \"Wind_Speed\")\n",
    "plt.title(\"Wind Speed (mph) vs. Latitude\")\n",
    "plt.savefig(\"../output_data/Fig4.png\")"
   ]
  },
  {
   "cell_type": "markdown",
   "metadata": {},
   "source": [
    "This plot is comparing the latitude of the city and its average wind speed. One can see that the wind speed seems to sit mostly below 10mph, and as the latitude increases the more conjested the distribution."
   ]
  },
  {
   "cell_type": "markdown",
   "metadata": {},
   "source": [
    "## Linear Regression"
   ]
  },
  {
   "cell_type": "code",
   "execution_count": 36,
   "metadata": {},
   "outputs": [
    {
     "data": {
      "text/html": [
       "<div>\n",
       "<style scoped>\n",
       "    .dataframe tbody tr th:only-of-type {\n",
       "        vertical-align: middle;\n",
       "    }\n",
       "\n",
       "    .dataframe tbody tr th {\n",
       "        vertical-align: top;\n",
       "    }\n",
       "\n",
       "    .dataframe thead th {\n",
       "        text-align: right;\n",
       "    }\n",
       "</style>\n",
       "<table border=\"1\" class=\"dataframe\">\n",
       "  <thead>\n",
       "    <tr style=\"text-align: right;\">\n",
       "      <th></th>\n",
       "      <th>City</th>\n",
       "      <th>Lat</th>\n",
       "      <th>Lng</th>\n",
       "      <th>Max_Temp</th>\n",
       "      <th>Humidity</th>\n",
       "      <th>Cloudiness</th>\n",
       "      <th>Wind_Speed</th>\n",
       "      <th>Country</th>\n",
       "      <th>Date</th>\n",
       "    </tr>\n",
       "  </thead>\n",
       "  <tbody>\n",
       "    <tr>\n",
       "      <th>4</th>\n",
       "      <td>Ushuaia</td>\n",
       "      <td>-54.80</td>\n",
       "      <td>-68.30</td>\n",
       "      <td>39.20</td>\n",
       "      <td>86</td>\n",
       "      <td>40</td>\n",
       "      <td>8.34</td>\n",
       "      <td>AR</td>\n",
       "      <td>1603258405</td>\n",
       "    </tr>\n",
       "    <tr>\n",
       "      <th>5</th>\n",
       "      <td>Gamba</td>\n",
       "      <td>-2.65</td>\n",
       "      <td>10.00</td>\n",
       "      <td>76.59</td>\n",
       "      <td>88</td>\n",
       "      <td>98</td>\n",
       "      <td>4.12</td>\n",
       "      <td>GA</td>\n",
       "      <td>1603258405</td>\n",
       "    </tr>\n",
       "    <tr>\n",
       "      <th>8</th>\n",
       "      <td>Libertador General San Martín</td>\n",
       "      <td>-23.81</td>\n",
       "      <td>-64.79</td>\n",
       "      <td>73.00</td>\n",
       "      <td>65</td>\n",
       "      <td>100</td>\n",
       "      <td>4.00</td>\n",
       "      <td>AR</td>\n",
       "      <td>1603258406</td>\n",
       "    </tr>\n",
       "    <tr>\n",
       "      <th>12</th>\n",
       "      <td>Punta Arenas</td>\n",
       "      <td>-53.15</td>\n",
       "      <td>-70.92</td>\n",
       "      <td>37.40</td>\n",
       "      <td>74</td>\n",
       "      <td>40</td>\n",
       "      <td>8.05</td>\n",
       "      <td>CL</td>\n",
       "      <td>1603258294</td>\n",
       "    </tr>\n",
       "    <tr>\n",
       "      <th>14</th>\n",
       "      <td>Grand Gaube</td>\n",
       "      <td>-20.01</td>\n",
       "      <td>57.66</td>\n",
       "      <td>80.01</td>\n",
       "      <td>60</td>\n",
       "      <td>0</td>\n",
       "      <td>11.99</td>\n",
       "      <td>MU</td>\n",
       "      <td>1603258407</td>\n",
       "    </tr>\n",
       "  </tbody>\n",
       "</table>\n",
       "</div>"
      ],
      "text/plain": [
       "                             City    Lat    Lng  Max_Temp  Humidity  \\\n",
       "4                         Ushuaia -54.80 -68.30     39.20        86   \n",
       "5                           Gamba  -2.65  10.00     76.59        88   \n",
       "8   Libertador General San Martín -23.81 -64.79     73.00        65   \n",
       "12                   Punta Arenas -53.15 -70.92     37.40        74   \n",
       "14                    Grand Gaube -20.01  57.66     80.01        60   \n",
       "\n",
       "    Cloudiness  Wind_Speed Country        Date  \n",
       "4           40        8.34      AR  1603258405  \n",
       "5           98        4.12      GA  1603258405  \n",
       "8          100        4.00      AR  1603258406  \n",
       "12          40        8.05      CL  1603258294  \n",
       "14           0       11.99      MU  1603258407  "
      ]
     },
     "execution_count": 36,
     "metadata": {},
     "output_type": "execute_result"
    }
   ],
   "source": [
    "# Make new data frames for northern and southern hemisphere\n",
    "North_data = data[data[\"Lat\"] >= 0]\n",
    "North_data.head()\n",
    "South_data = data[data[\"Lat\"] < 0]\n",
    "South_data.head()"
   ]
  },
  {
   "cell_type": "code",
   "execution_count": 37,
   "metadata": {},
   "outputs": [],
   "source": [
    "# Created linear regression function to be called upon\n",
    "def linear_regression(x, y, x_label, y_label, title):\n",
    "    plt.scatter(x, y)\n",
    "    slope, intercept, r_value, p_value, std_err = linregress(x, y)\n",
    "    plt.plot(x, slope*x + intercept, \"r-\")\n",
    "    plt.xlabel(x_label)\n",
    "    plt.ylabel(y_label)\n",
    "    plt.title(title)\n",
    "    plt.show()"
   ]
  },
  {
   "cell_type": "markdown",
   "metadata": {},
   "source": [
    "####  Northern Hemisphere - Max Temp vs. Latitude Linear Regression"
   ]
  },
  {
   "cell_type": "code",
   "execution_count": 38,
   "metadata": {},
   "outputs": [
    {
     "data": {
      "image/png": "[encoded data removed]",
      "text/plain": [
       "<Figure size 432x288 with 1 Axes>"
      ]
     },
     "metadata": {
      "needs_background": "light"
     },
     "output_type": "display_data"
    }
   ],
   "source": [
    "\n",
    "linear_regression(North_data[\"Lat\"], North_data[\"Max_Temp\"], \"Lat\", \"Temp\", \"North Latitude v Temperature\")"
   ]
  },
  {
   "cell_type": "markdown",
   "metadata": {},
   "source": [
    "In the northern hemisphere the linear regression shows that as latitude increases temperature decreases."
   ]
  },
  {
   "cell_type": "markdown",
   "metadata": {},
   "source": [
    "####  Southern Hemisphere - Max Temp vs. Latitude Linear Regression"
   ]
  },
  {
   "cell_type": "code",
   "execution_count": 39,
   "metadata": {},
   "outputs": [
    {
     "data": {
      "image/png": "[encoded data removed]",
      "text/plain": [
       "<Figure size 432x288 with 1 Axes>"
      ]
     },
     "metadata": {
      "needs_background": "light"
     },
     "output_type": "display_data"
    }
   ],
   "source": [
    "linear_regression(South_data[\"Lat\"], South_data[\"Max_Temp\"], \"Lat\", \"Temp\", \"South Latitude v Temperature\")"
   ]
  },
  {
   "cell_type": "markdown",
   "metadata": {},
   "source": [
    "Meanwhile in the southern hemisphere the linear regressions shows that as latitude decreases so to does temperature.\n",
    "\n",
    "####  Max Temp vs. Latitude Analysis\n",
    "\n",
    "Looking at both hemispheres it can be deduced that the temperature reaches a maximum the closer one is to the equator or 0 degress of latitude"
   ]
  },
  {
   "cell_type": "markdown",
   "metadata": {},
   "source": [
    "####  Northern Hemisphere - Humidity (%) vs. Latitude Linear Regression"
   ]
  },
  {
   "cell_type": "code",
   "execution_count": 40,
   "metadata": {},
   "outputs": [
    {
     "data": {
      "image/png": "[encoded data removed]",
      "text/plain": [
       "<Figure size 432x288 with 1 Axes>"
      ]
     },
     "metadata": {
      "needs_background": "light"
     },
     "output_type": "display_data"
    }
   ],
   "source": [
    "linear_regression(North_data[\"Lat\"], North_data[\"Humidity\"], \"Lat\", \"Humidity\", \"North Latitude v Humidity\")"
   ]
  },
  {
   "cell_type": "markdown",
   "metadata": {},
   "source": [
    "In the northern hemisphere the linear regression shows that as latitude increases humidity also increases."
   ]
  },
  {
   "cell_type": "markdown",
   "metadata": {},
   "source": [
    "####  Southern Hemisphere - Humidity (%) vs. Latitude Linear Regression"
   ]
  },
  {
   "cell_type": "code",
   "execution_count": 41,
   "metadata": {},
   "outputs": [
    {
     "data": {
      "image/png": "[encoded data removed]",
      "text/plain": [
       "<Figure size 432x288 with 1 Axes>"
      ]
     },
     "metadata": {
      "needs_background": "light"
     },
     "output_type": "display_data"
    }
   ],
   "source": [
    "linear_regression(South_data[\"Lat\"], South_data[\"Humidity\"], \"Lat\", \"Humidity\", \"South Latitude v Humidity\")"
   ]
  },
  {
   "cell_type": "markdown",
   "metadata": {},
   "source": [
    "Meanwhile this trend continues in the southern hemisphere.\n",
    "\n",
    "####  Humidity vs. Latitude Analysis\n",
    "\n",
    "This would lead one to believe that as one travels north(increasing latitude) the humidity will also increase. A point of notice could be the time of year though, in the summer the earth is tilted towards the sun which could be a cause for increase in humidity. It would be interesting to see data from the winter and see if the trend is the same."
   ]
  },
  {
   "cell_type": "markdown",
   "metadata": {},
   "source": [
    "####  Northern Hemisphere - Cloudiness (%) vs. Latitude Linear Regression"
   ]
  },
  {
   "cell_type": "code",
   "execution_count": 42,
   "metadata": {},
   "outputs": [
    {
     "data": {
      "image/png": "[encoded data removed]",
      "text/plain": [
       "<Figure size 432x288 with 1 Axes>"
      ]
     },
     "metadata": {
      "needs_background": "light"
     },
     "output_type": "display_data"
    }
   ],
   "source": [
    "linear_regression(North_data[\"Lat\"], North_data[\"Cloudiness\"], \"Lat\", \"Cloudiness\", \"North Latitude v Cloudiness\")"
   ]
  },
  {
   "cell_type": "markdown",
   "metadata": {},
   "source": [
    "In the northern hemisphere the linear regression for cloudiness shows an increase in cloudiness as one increases their latitude."
   ]
  },
  {
   "cell_type": "markdown",
   "metadata": {},
   "source": [
    "####  Southern Hemisphere - Cloudiness (%) vs. Latitude Linear Regression"
   ]
  },
  {
   "cell_type": "code",
   "execution_count": 43,
   "metadata": {},
   "outputs": [
    {
     "data": {
      "image/png": "[encoded data removed]",
      "text/plain": [
       "<Figure size 432x288 with 1 Axes>"
      ]
     },
     "metadata": {
      "needs_background": "light"
     },
     "output_type": "display_data"
    }
   ],
   "source": [
    "linear_regression(South_data[\"Lat\"], South_data[\"Cloudiness\"], \"Lat\", \"Cloudiness\", \"South Latitude v Cloudiness\")"
   ]
  },
  {
   "cell_type": "markdown",
   "metadata": {},
   "source": [
    "Meanwhile the trend continues for the southern hemisphere; although, the distribution of data points seems to be more spread out.\n",
    "\n",
    "####  Cloudiness vs. Latitude Analysis\n",
    "\n",
    "As one travels north the trend shows an increase in cloudiness as well as a conjestion of the distribution of data points. This later observation could be due to the fact that the locations of cities was chosen at random, but it is a point of emphasis in this analysis."
   ]
  },
  {
   "cell_type": "markdown",
   "metadata": {},
   "source": [
    "####  Northern Hemisphere - Wind Speed (mph) vs. Latitude Linear Regression"
   ]
  },
  {
   "cell_type": "code",
   "execution_count": 44,
   "metadata": {},
   "outputs": [
    {
     "data": {
      "image/png": "[encoded data removed]",
      "text/plain": [
       "<Figure size 432x288 with 1 Axes>"
      ]
     },
     "metadata": {
      "needs_background": "light"
     },
     "output_type": "display_data"
    }
   ],
   "source": [
    "linear_regression(North_data[\"Lat\"], North_data[\"Wind_Speed\"], \"Lat\", \"Wind Speed\", \"North Latitude v Wind Speed\")"
   ]
  },
  {
   "cell_type": "markdown",
   "metadata": {},
   "source": [
    "The linear regression of latitude vs windspeed for the northern hemisphere does not show any coorelation, meaning there is little to prove any conclusion."
   ]
  },
  {
   "cell_type": "markdown",
   "metadata": {},
   "source": [
    "####  Southern Hemisphere - Wind Speed (mph) vs. Latitude Linear Regression"
   ]
  },
  {
   "cell_type": "code",
   "execution_count": 45,
   "metadata": {},
   "outputs": [
    {
     "data": {
      "image/png": "[encoded data removed]",
      "text/plain": [
       "<Figure size 432x288 with 1 Axes>"
      ]
     },
     "metadata": {
      "needs_background": "light"
     },
     "output_type": "display_data"
    }
   ],
   "source": [
    "linear_regression(South_data[\"Lat\"], South_data[\"Wind_Speed\"], \"Lat\", \"Wind Speed\", \"South Latitude v Wind Speed\")"
   ]
  },
  {
   "cell_type": "markdown",
   "metadata": {},
   "source": [
    "Meanwhile the southern hemisphere tends to show a slight inverse correlation between wind speed and latitude traveling from an average of 10 to 6 mph as one approaches the equator.\n",
    "\n",
    "####  Wind Speed vs Latitude Analysis\n",
    "\n",
    "The data provided tends to show that there is no correlation between wind speed and latitude. Althought there is a slight change in the southern hemisphere, when looked along side the north the data does not draw any repeatable conclusion."
   ]
  },
  {
   "cell_type": "code",
   "execution_count": null,
   "metadata": {},
   "outputs": [],
   "source": []
  }
 ],
 "metadata": {
  "anaconda-cloud": {},
  "kernel_info": {
   "name": "python3"
  },
  "kernelspec": {
   "display_name": "Python [conda env:PythonData] *",
   "language": "python",
   "name": "conda-env-PythonData-py"
  },
  "language_info": {
   "codemirror_mode": {
    "name": "ipython",
    "version": 3
   },
   "file_extension": ".py",
   "mimetype": "text/x-python",
   "name": "python",
   "nbconvert_exporter": "python",
   "pygments_lexer": "ipython3",
   "version": "3.7.1"
  },
  "latex_envs": {
   "LaTeX_envs_menu_present": true,
   "autoclose": false,
   "autocomplete": true,
   "bibliofile": "biblio.bib",
   "cite_by": "apalike",
   "current_citInitial": 1,
   "eqLabelWithNumbers": true,
   "eqNumInitial": 1,
   "hotkeys": {
    "equation": "Ctrl-E",
    "itemize": "Ctrl-I"
   },
   "labels_anchors": false,
   "latex_user_defs": false,
   "report_style_numbering": false,
   "user_envs_cfg": false
  },
  "nteract": {
   "version": "0.12.3"
  }
 },
 "nbformat": 4,
 "nbformat_minor": 2
}
