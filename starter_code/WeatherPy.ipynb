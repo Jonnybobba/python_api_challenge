{
 "cells": [
  {
   "cell_type": "markdown",
   "metadata": {},
   "source": [
    "# WeatherPy\n",
    "----\n",
    "\n",
    "#### Note\n",
    "* Instructions have been included for each segment. You do not have to follow them exactly, but they are included to help you think through the steps."
   ]
  },
  {
   "cell_type": "code",
   "execution_count": 1,
   "metadata": {
    "scrolled": true
   },
   "outputs": [],
   "source": [
    "# Dependencies and Setup\n",
    "import matplotlib.pyplot as plt\n",
    "import pandas as pd\n",
    "import numpy as np\n",
    "import requests\n",
    "import time\n",
    "from scipy.stats import linregress\n",
    "from pprint import pprint\n",
    "\n",
    "# Import API key\n",
    "from api_keys import weather_api_key\n",
    "\n",
    "# Incorporated citipy to determine city based on latitude and longitude\n",
    "from citipy import citipy\n",
    "\n",
    "# Output File (CSV)\n",
    "output_data_file = \"output_data/cities.csv\"\n",
    "\n",
    "# Range of latitudes and longitudes\n",
    "lat_range = (-90, 90)\n",
    "lng_range = (-180, 180)"
   ]
  },
  {
   "cell_type": "markdown",
   "metadata": {},
   "source": [
    "## Generate Cities List"
   ]
  },
  {
   "cell_type": "code",
   "execution_count": 2,
   "metadata": {},
   "outputs": [
    {
     "data": {
      "text/plain": [
       "649"
      ]
     },
     "execution_count": 2,
     "metadata": {},
     "output_type": "execute_result"
    }
   ],
   "source": [
    "# List for holding lat_lngs and cities\n",
    "lat_lngs = []\n",
    "cities = []\n",
    "\n",
    "# Create a set of random lat and lng combinations\n",
    "lats = np.random.uniform(lat_range[0], lat_range[1], size=1500)\n",
    "lngs = np.random.uniform(lng_range[0], lng_range[1], size=1500)\n",
    "lat_lngs = zip(lats, lngs)\n",
    "\n",
    "# Identify nearest city for each lat, lng combination\n",
    "for lat_lng in lat_lngs:\n",
    "    city = citipy.nearest_city(lat_lng[0], lat_lng[1]).city_name\n",
    "    \n",
    "    # If the city is unique, then add it to a our cities list\n",
    "    if city not in cities:\n",
    "        cities.append(city)\n",
    "\n",
    "# Print the city count to confirm sufficient count\n",
    "len(cities)"
   ]
  },
  {
   "cell_type": "markdown",
   "metadata": {},
   "source": [
    "### Perform API Calls\n",
    "* Perform a weather check on each city using a series of successive API calls.\n",
    "* Include a print log of each city as it'sbeing processed (with the city number and city name).\n"
   ]
  },
  {
   "cell_type": "code",
   "execution_count": 9,
   "metadata": {},
   "outputs": [
    {
     "name": "stdout",
     "output_type": "stream",
     "text": [
      "1.79\n"
     ]
    }
   ],
   "source": [
    "response = requests.get(\"http://api.openweathermap.org/data/2.5/weather?q=\"+cities[27]+\"&appid=\" + weather_api_key).json()\n",
    "pprint(response[\"wind\"][\"speed\"])"
   ]
  },
  {
   "cell_type": "code",
   "execution_count": 10,
   "metadata": {
    "scrolled": true
   },
   "outputs": [
    {
     "name": "stdout",
     "output_type": "stream",
     "text": [
      "Testing city number 0. praxedis guerrero found.\n",
      "Testing city number 1. nidzica found.\n",
      "Testing city number 2. barrow found.\n",
      "Testing city number 3. hermanus found.\n",
      "could not find burica.\n",
      "Testing city number 5. abrau-dyurso found.\n",
      "Testing city number 6. dawei found.\n",
      "Testing city number 7. bathsheba found.\n",
      "Testing city number 8. pangnirtung found.\n",
      "Testing city number 9. ushuaia found.\n",
      "Testing city number 10. half moon bay found.\n",
      "Testing city number 11. qaanaaq found.\n",
      "Testing city number 12. kedrovyy found.\n",
      "Testing city number 13. mataura found.\n",
      "Testing city number 14. yellowknife found.\n",
      "Testing city number 15. busselton found.\n",
      "could not find illoqqortoormiut.\n",
      "Testing city number 17. taoudenni found.\n",
      "Testing city number 18. port elizabeth found.\n",
      "Testing city number 19. santa rosa found.\n",
      "Testing city number 20. sal rei found.\n",
      "could not find grand river south east.\n",
      "Testing city number 22. fairbanks found.\n",
      "could not find tawkar.\n",
      "Testing city number 24. chuy found.\n",
      "could not find taolanaro.\n",
      "Testing city number 26. hobart found.\n",
      "Testing city number 27. viedma found.\n",
      "Testing city number 28. dikson found.\n",
      "Testing city number 29. liverpool found.\n",
      "Testing city number 30. padang found.\n",
      "Testing city number 31. vaini found.\n",
      "Testing city number 32. shelburne found.\n",
      "Testing city number 33. ashcroft found.\n",
      "Testing city number 34. jamestown found.\n",
      "Testing city number 35. pahrump found.\n",
      "Testing city number 36. rikitea found.\n",
      "Testing city number 37. avarua found.\n",
      "Testing city number 38. kapaa found.\n",
      "Testing city number 39. baykit found.\n",
      "Testing city number 40. punta arenas found.\n",
      "Testing city number 41. ust-kuyga found.\n",
      "Testing city number 42. niles found.\n",
      "Testing city number 43. tura found.\n",
      "Testing city number 44. nikolskoye found.\n",
      "Testing city number 45. mar del plata found.\n",
      "Testing city number 46. tres arroyos found.\n",
      "could not find amderma.\n",
      "Testing city number 48. cape town found.\n",
      "Testing city number 49. mayumba found.\n",
      "Testing city number 50. longyearbyen found.\n",
      "Testing city number 51. merauke found.\n",
      "Testing city number 52. gawler found.\n",
      "Testing city number 53. hasaki found.\n",
      "Testing city number 54. tarut found.\n",
      "could not find grand centre.\n",
      "Testing city number 56. parthenay found.\n",
      "Testing city number 57. bluff found.\n",
      "could not find alotau.\n",
      "Testing city number 59. kaitangata found.\n",
      "Testing city number 60. jiujiang found.\n",
      "Testing city number 61. hilton head island found.\n",
      "Testing city number 62. upernavik found.\n",
      "could not find saleaula.\n",
      "Testing city number 64. grand-bourg found.\n",
      "Testing city number 65. souillac found.\n",
      "Testing city number 66. tempio pausania found.\n",
      "Testing city number 67. asosa found.\n",
      "Testing city number 68. almaznyy found.\n",
      "Testing city number 69. tiksi found.\n",
      "Testing city number 70. new norfolk found.\n",
      "Testing city number 71. arraial do cabo found.\n",
      "Testing city number 72. ilulissat found.\n",
      "Testing city number 73. pevek found.\n",
      "Testing city number 74. kalaleh found.\n",
      "Testing city number 75. karratha found.\n",
      "Testing city number 76. hithadhoo found.\n",
      "Testing city number 77. torbay found.\n",
      "Testing city number 78. verkhnyachka found.\n",
      "Testing city number 79. moose factory found.\n",
      "Testing city number 80. kudahuvadhoo found.\n",
      "could not find mys shmidta.\n",
      "could not find maykain.\n",
      "Testing city number 83. hilo found.\n",
      "Testing city number 84. eenhana found.\n",
      "Testing city number 85. oriximina found.\n",
      "Testing city number 86. klaksvik found.\n",
      "Testing city number 87. urucui found.\n",
      "Testing city number 88. tasiilaq found.\n",
      "Testing city number 89. dabola found.\n",
      "could not find babanusah.\n",
      "could not find barentsburg.\n",
      "Testing city number 92. christchurch found.\n",
      "could not find marcona.\n",
      "could not find kuche.\n",
      "Testing city number 95. thompson found.\n",
      "Testing city number 96. neiafu found.\n",
      "Testing city number 97. east london found.\n",
      "Testing city number 98. cidreira found.\n",
      "Testing city number 99. yamoussoukro found.\n",
      "could not find tumannyy.\n",
      "Testing city number 101. praia da vitoria found.\n",
      "Testing city number 102. alofi found.\n",
      "Testing city number 103. nome found.\n",
      "Testing city number 104. simpang found.\n",
      "Testing city number 105. port alfred found.\n",
      "Testing city number 106. norman wells found.\n",
      "could not find tsihombe.\n",
      "Testing city number 108. esperance found.\n",
      "Testing city number 109. clyde river found.\n",
      "Testing city number 110. puerto ayora found.\n",
      "Testing city number 111. urengoy found.\n",
      "Testing city number 112. codrington found.\n",
      "Testing city number 113. abha found.\n",
      "Testing city number 114. srednekolymsk found.\n",
      "Testing city number 115. ponta do sol found.\n",
      "Testing city number 116. broken hill found.\n",
      "Testing city number 117. agua buena found.\n",
      "Testing city number 118. ancud found.\n",
      "Testing city number 119. carnarvon found.\n",
      "Testing city number 120. saint-leu found.\n",
      "Testing city number 121. flinders found.\n",
      "Testing city number 122. sankt wendel found.\n",
      "Testing city number 123. trinidad found.\n",
      "could not find nizhneyansk.\n",
      "Testing city number 125. butaritari found.\n",
      "Testing city number 126. albany found.\n",
      "Testing city number 127. sahuaripa found.\n",
      "Testing city number 128. gayny found.\n",
      "Testing city number 129. amga found.\n",
      "Testing city number 130. mathathane found.\n",
      "Testing city number 131. ondjiva found.\n",
      "Testing city number 132. batagay-alyta found.\n",
      "Testing city number 133. georgetown found.\n",
      "Testing city number 134. castro found.\n",
      "Testing city number 135. katsuura found.\n",
      "Testing city number 136. geraldton found.\n",
      "Testing city number 137. irpa irpa found.\n",
      "Testing city number 138. skibbereen found.\n",
      "Testing city number 139. ambanja found.\n",
      "Testing city number 140. novikovo found.\n",
      "Testing city number 141. kijang found.\n",
      "Testing city number 142. chingirlau found.\n",
      "Testing city number 143. maniitsoq found.\n",
      "could not find braslav.\n",
      "Testing city number 145. los llanos de aridane found.\n",
      "Testing city number 146. dunedin found.\n",
      "Testing city number 147. taga found.\n",
      "Testing city number 148. taldan found.\n",
      "Testing city number 149. nanortalik found.\n",
      "Testing city number 150. unai found.\n",
      "Testing city number 151. mamlyutka found.\n",
      "Testing city number 152. saint-pierre found.\n",
      "Testing city number 153. cherskiy found.\n",
      "Testing city number 154. tazmalt found.\n",
      "Testing city number 155. yumen found.\n",
      "Testing city number 156. onega found.\n",
      "could not find samusu.\n",
      "Testing city number 158. ayan found.\n",
      "Testing city number 159. bredasdorp found.\n",
      "Testing city number 160. ouadda found.\n",
      "Testing city number 161. uray found.\n",
      "could not find mrirt.\n",
      "Testing city number 163. najran found.\n",
      "Testing city number 164. okha found.\n",
      "Testing city number 165. khatanga found.\n",
      "could not find bacuit.\n",
      "Testing city number 167. ghanzi found.\n",
      "Testing city number 168. provideniya found.\n",
      "Testing city number 169. haines junction found.\n",
      "could not find karaul.\n",
      "Testing city number 171. roebourne found.\n",
      "Testing city number 172. kavaratti found.\n",
      "Testing city number 173. loandjili found.\n",
      "Testing city number 174. mount isa found.\n",
      "Testing city number 175. toppenish found.\n",
      "Testing city number 176. armidale found.\n",
      "Testing city number 177. tuktoyaktuk found.\n",
      "Testing city number 178. oktyabrskiy found.\n",
      "Testing city number 179. omidiyeh found.\n",
      "Testing city number 180. luderitz found.\n",
      "Testing city number 181. vao found.\n",
      "Testing city number 182. havre-saint-pierre found.\n",
      "could not find kazalinsk.\n",
      "Testing city number 184. bermeo found.\n",
      "Testing city number 185. saquarema found.\n",
      "Testing city number 186. kavieng found.\n",
      "Testing city number 187. sao joao da barra found.\n",
      "Testing city number 188. vardo found.\n",
      "could not find ondorhaan.\n",
      "Testing city number 190. sitka found.\n",
      "Testing city number 191. kahului found.\n",
      "Testing city number 192. capao bonito found.\n",
      "Testing city number 193. san jose found.\n",
      "Testing city number 194. rio grande found.\n",
      "could not find ruatoria.\n",
      "Testing city number 196. mayo found.\n",
      "Testing city number 197. hambantota found.\n",
      "Testing city number 198. bull savanna found.\n",
      "Testing city number 199. bengkulu found.\n",
      "Testing city number 200. concepcion del uruguay found.\n",
      "could not find tanshui.\n",
      "could not find belushya guba.\n",
      "Testing city number 203. vagamo found.\n",
      "Testing city number 204. lafayette found.\n",
      "Testing city number 205. santa maria found.\n",
      "Testing city number 206. pacific grove found.\n",
      "Testing city number 207. guozhen found.\n",
      "Testing city number 208. ternate found.\n",
      "Testing city number 209. south farmingdale found.\n",
      "Testing city number 210. makat found.\n"
     ]
    },
    {
     "name": "stdout",
     "output_type": "stream",
     "text": [
      "Testing city number 211. bambous virieux found.\n",
      "Testing city number 212. tabou found.\n",
      "Testing city number 213. atuona found.\n",
      "Testing city number 214. illela found.\n",
      "Testing city number 215. caucaia found.\n",
      "Testing city number 216. aranos found.\n",
      "Testing city number 217. campbell river found.\n",
      "Testing city number 218. nouadhibou found.\n",
      "Testing city number 219. san cristobal found.\n",
      "could not find afgoye.\n",
      "Testing city number 221. bend found.\n",
      "Testing city number 222. port lincoln found.\n",
      "Testing city number 223. svetlyy found.\n",
      "could not find cumaribo.\n",
      "Testing city number 225. zavallya found.\n",
      "Testing city number 226. saint-joseph found.\n",
      "Testing city number 227. lebu found.\n",
      "Testing city number 228. suraabad found.\n",
      "Testing city number 229. zomin found.\n",
      "Testing city number 230. saldanha found.\n",
      "Testing city number 231. chicama found.\n",
      "could not find karamay.\n",
      "Testing city number 233. hefei found.\n",
      "Testing city number 234. kutum found.\n",
      "Testing city number 235. takoradi found.\n",
      "Testing city number 236. auki found.\n",
      "Testing city number 237. moron found.\n",
      "Testing city number 238. chokurdakh found.\n",
      "Testing city number 239. bayan found.\n",
      "Testing city number 240. riyadh found.\n",
      "Testing city number 241. maracacume found.\n",
      "could not find barawe.\n",
      "Testing city number 243. rancho mirage found.\n",
      "Testing city number 244. ribeira grande found.\n",
      "Testing city number 245. vanderhoof found.\n",
      "could not find khonuu.\n",
      "Testing city number 247. paamiut found.\n",
      "Testing city number 248. galesong found.\n",
      "Testing city number 249. el alto found.\n",
      "Testing city number 250. sakakah found.\n",
      "Testing city number 251. ukiah found.\n",
      "Testing city number 252. bambanglipuro found.\n",
      "Testing city number 253. dakar found.\n",
      "could not find attawapiskat.\n",
      "Testing city number 255. muzambinho found.\n",
      "Testing city number 256. beringovskiy found.\n",
      "Testing city number 257. vitim found.\n",
      "Testing city number 258. aklavik found.\n",
      "Testing city number 259. ambon found.\n",
      "Testing city number 260. tiznit found.\n",
      "Testing city number 261. san quintin found.\n",
      "Testing city number 262. muyezerskiy found.\n",
      "Testing city number 263. sumenep found.\n",
      "Testing city number 264. greenville found.\n",
      "Testing city number 265. faanui found.\n",
      "Testing city number 266. saint-prosper found.\n",
      "Testing city number 267. rawson found.\n",
      "Testing city number 268. manaus found.\n",
      "could not find scottsburgh.\n",
      "Testing city number 270. isangel found.\n",
      "Testing city number 271. devgarh found.\n",
      "Testing city number 272. bridlington found.\n",
      "Testing city number 273. port hardy found.\n",
      "could not find viligili.\n",
      "Testing city number 275. solnechnyy found.\n",
      "Testing city number 276. kutina found.\n",
      "Testing city number 277. guerrero negro found.\n",
      "Testing city number 278. vestmanna found.\n",
      "Testing city number 279. fort nelson found.\n",
      "Testing city number 280. alice springs found.\n",
      "Testing city number 281. tynda found.\n",
      "Testing city number 282. fortuna found.\n",
      "Testing city number 283. cassilandia found.\n",
      "Testing city number 284. umm kaddadah found.\n",
      "Testing city number 285. price found.\n",
      "Testing city number 286. beitbridge found.\n",
      "Testing city number 287. margate found.\n",
      "Testing city number 288. havoysund found.\n",
      "Testing city number 289. gasa found.\n",
      "Testing city number 290. hofn found.\n",
      "Testing city number 291. sioux lookout found.\n",
      "Testing city number 292. beckley found.\n",
      "Testing city number 293. pithapuram found.\n",
      "Testing city number 294. majene found.\n",
      "Testing city number 295. bonthe found.\n",
      "Testing city number 296. sao filipe found.\n",
      "Testing city number 297. tuatapere found.\n",
      "Testing city number 298. saskylakh found.\n",
      "Testing city number 299. bambari found.\n",
      "Testing city number 300. huarmey found.\n",
      "Testing city number 301. asau found.\n",
      "Testing city number 302. balsas found.\n",
      "Testing city number 303. castelldefels found.\n",
      "Testing city number 304. mackay found.\n",
      "Testing city number 305. ostrovnoy found.\n",
      "Testing city number 306. mansehra found.\n",
      "Testing city number 307. matelandia found.\n",
      "Testing city number 308. goderich found.\n",
      "Testing city number 309. sheksna found.\n",
      "Testing city number 310. beloha found.\n",
      "Testing city number 311. ixtapa found.\n",
      "Testing city number 312. kibre mengist found.\n",
      "Testing city number 313. abu samrah found.\n",
      "Testing city number 314. amuntai found.\n",
      "Testing city number 315. saint-louis found.\n",
      "Testing city number 316. yulara found.\n",
      "Testing city number 317. nurobod found.\n",
      "Testing city number 318. sekoma found.\n",
      "Testing city number 319. dospat found.\n",
      "Testing city number 320. rawlins found.\n",
      "Testing city number 321. saint george found.\n",
      "Testing city number 322. kandry found.\n",
      "Testing city number 323. vila franca do campo found.\n",
      "Testing city number 324. lagoa found.\n",
      "Testing city number 325. sambava found.\n",
      "Testing city number 326. nueva rosita found.\n",
      "Testing city number 327. westport found.\n",
      "Testing city number 328. miedzyrzecz found.\n",
      "Testing city number 329. shira found.\n",
      "Testing city number 330. san patricio found.\n",
      "Testing city number 331. berlevag found.\n",
      "Testing city number 332. samana found.\n",
      "Testing city number 333. san juan de abajo found.\n",
      "Testing city number 334. maceio found.\n",
      "Testing city number 335. broome found.\n",
      "Testing city number 336. uruguaiana found.\n",
      "could not find warqla.\n",
      "Testing city number 338. svetlaya found.\n",
      "Testing city number 339. santa cruz found.\n",
      "Testing city number 340. saint-philippe found.\n",
      "Testing city number 341. talcahuano found.\n",
      "Testing city number 342. coquimbo found.\n",
      "Testing city number 343. kilis found.\n",
      "Testing city number 344. plougastel-daoulas found.\n",
      "Testing city number 345. zhigansk found.\n",
      "Testing city number 346. shingu found.\n",
      "Testing city number 347. jerecuaro found.\n",
      "Testing city number 348. saint marys found.\n",
      "Testing city number 349. hobyo found.\n",
      "Testing city number 350. spasskoye found.\n",
      "Testing city number 351. pemberton found.\n",
      "Testing city number 352. ilebo found.\n",
      "Testing city number 353. erenhot found.\n",
      "Testing city number 354. nantucket found.\n",
      "Testing city number 355. leon found.\n",
      "Testing city number 356. weligama found.\n",
      "Testing city number 357. sheffield found.\n",
      "Testing city number 358. sao domingos found.\n",
      "Testing city number 359. omsukchan found.\n",
      "Testing city number 360. darnah found.\n",
      "Testing city number 361. marawi found.\n",
      "Testing city number 362. celestun found.\n",
      "Testing city number 363. taltal found.\n",
      "Testing city number 364. naze found.\n",
      "Testing city number 365. raahe found.\n",
      "Testing city number 366. diamantina found.\n",
      "Testing city number 367. ishigaki found.\n",
      "Testing city number 368. ust-maya found.\n",
      "Testing city number 369. asilah found.\n",
      "Testing city number 370. grindavik found.\n",
      "Testing city number 371. bethel found.\n",
      "Testing city number 372. amahai found.\n",
      "Testing city number 373. jinzhou found.\n",
      "Testing city number 374. salamiyah found.\n",
      "Testing city number 375. turtas found.\n",
      "Testing city number 376. resistencia found.\n",
      "Testing city number 377. sechura found.\n",
      "Testing city number 378. ardeoani found.\n",
      "Testing city number 379. kaeo found.\n",
      "Testing city number 380. fort saint james found.\n",
      "Testing city number 381. kushmurun found.\n",
      "Testing city number 382. doha found.\n",
      "Testing city number 383. fez found.\n",
      "Testing city number 384. wewak found.\n",
      "Testing city number 385. chase found.\n",
      "Testing city number 386. spantov found.\n",
      "Testing city number 387. salalah found.\n",
      "Testing city number 388. nishihara found.\n",
      "Testing city number 389. oranjemund found.\n",
      "Testing city number 390. floro found.\n",
      "Testing city number 391. male found.\n",
      "Testing city number 392. nyurba found.\n",
      "Testing city number 393. husavik found.\n",
      "Testing city number 394. namibe found.\n",
      "Testing city number 395. acoyapa found.\n",
      "Testing city number 396. okhotsk found.\n",
      "Testing city number 397. coahuayana found.\n",
      "Testing city number 398. miri found.\n",
      "Testing city number 399. constitucion found.\n",
      "Testing city number 400. teknaf found.\n",
      "Testing city number 401. chahal found.\n",
      "Testing city number 402. quang ngai found.\n",
      "Testing city number 403. naliya found.\n",
      "Testing city number 404. keelung found.\n",
      "Testing city number 405. bardiyah found.\n",
      "Testing city number 406. uyuni found.\n",
      "Testing city number 407. talnakh found.\n",
      "could not find sentyabrskiy.\n",
      "Testing city number 409. shimoda found.\n",
      "Testing city number 410. bakel found.\n",
      "Testing city number 411. brazzaville found.\n",
      "Testing city number 412. kruisfontein found.\n",
      "Testing city number 413. puerto del rosario found.\n",
      "Testing city number 414. kloulklubed found.\n",
      "Testing city number 415. virginia beach found.\n"
     ]
    },
    {
     "name": "stdout",
     "output_type": "stream",
     "text": [
      "Testing city number 416. mahebourg found.\n",
      "Testing city number 417. beyneu found.\n",
      "Testing city number 418. samarai found.\n",
      "Testing city number 419. ust-tsilma found.\n",
      "Testing city number 420. saint anthony found.\n",
      "Testing city number 421. safranbolu found.\n",
      "Testing city number 422. ilinskaya found.\n",
      "Testing city number 423. olafsvik found.\n",
      "Testing city number 424. pisco found.\n",
      "Testing city number 425. lebork found.\n",
      "Testing city number 426. awbari found.\n",
      "Testing city number 427. opuwo found.\n",
      "Testing city number 428. manzanillo found.\n",
      "Testing city number 429. magadan found.\n",
      "Testing city number 430. kelvington found.\n",
      "Testing city number 431. denpasar found.\n",
      "Testing city number 432. iquique found.\n",
      "Testing city number 433. san jeronimo found.\n",
      "Testing city number 434. kabanjahe found.\n",
      "Testing city number 435. winnemucca found.\n",
      "Testing city number 436. prainha found.\n",
      "Testing city number 437. shitanjing found.\n",
      "Testing city number 438. fairview found.\n",
      "Testing city number 439. velikiy ustyug found.\n",
      "Testing city number 440. hede found.\n",
      "Testing city number 441. dalvik found.\n",
      "Testing city number 442. manta found.\n",
      "could not find umzimvubu.\n",
      "Testing city number 444. fare found.\n",
      "Testing city number 445. pemangkat found.\n",
      "Testing city number 446. mount gambier found.\n",
      "Testing city number 447. cabedelo found.\n",
      "Testing city number 448. enshi found.\n",
      "Testing city number 449. yorosso found.\n",
      "could not find kac.\n",
      "Testing city number 451. ocampo found.\n",
      "Testing city number 452. challapata found.\n",
      "Testing city number 453. guilin found.\n",
      "Testing city number 454. erdenet found.\n",
      "Testing city number 455. manihari found.\n",
      "Testing city number 456. baiyin found.\n",
      "Testing city number 457. ngunguru found.\n",
      "Testing city number 458. buraydah found.\n",
      "Testing city number 459. oga found.\n",
      "Testing city number 460. prince rupert found.\n",
      "Testing city number 461. poum found.\n",
      "Testing city number 462. qurayyat found.\n",
      "Testing city number 463. boyany found.\n",
      "Testing city number 464. kannur found.\n",
      "Testing city number 465. pestretsy found.\n",
      "Testing city number 466. wiwili found.\n",
      "Testing city number 467. camacha found.\n",
      "Testing city number 468. batemans bay found.\n",
      "Testing city number 469. kinablangan found.\n",
      "Testing city number 470. barsovo found.\n",
      "Testing city number 471. beroroha found.\n",
      "Testing city number 472. port macquarie found.\n",
      "Testing city number 473. matara found.\n",
      "Testing city number 474. grenville found.\n",
      "Testing city number 475. englewood found.\n",
      "Testing city number 476. timizart found.\n",
      "Testing city number 477. proletarskiy found.\n",
      "Testing city number 478. morehead found.\n",
      "could not find santa eulalia del rio.\n",
      "Testing city number 480. almeirim found.\n",
      "Testing city number 481. marzuq found.\n",
      "Testing city number 482. kon tum found.\n",
      "Testing city number 483. sao felix do xingu found.\n",
      "Testing city number 484. victoria found.\n",
      "Testing city number 485. komsomolskiy found.\n",
      "Testing city number 486. port blair found.\n",
      "Testing city number 487. bamako found.\n",
      "could not find tabiauea.\n",
      "Testing city number 489. manggar found.\n",
      "Testing city number 490. kampot found.\n",
      "could not find samalaeulu.\n",
      "Testing city number 492. lubao found.\n",
      "Testing city number 493. labuan found.\n",
      "Testing city number 494. hagenow found.\n",
      "Testing city number 495. anadyr found.\n",
      "Testing city number 496. graham found.\n",
      "Testing city number 497. staszow found.\n",
      "Testing city number 498. eganville found.\n",
      "could not find qandahar.\n",
      "Testing city number 500. ponto novo found.\n",
      "Testing city number 501. san lorenzo found.\n",
      "Testing city number 502. matagami found.\n",
      "Testing city number 503. sabang found.\n",
      "Testing city number 504. mayna found.\n",
      "Testing city number 505. griffith found.\n",
      "Testing city number 506. lavrentiya found.\n",
      "Testing city number 507. kandrian found.\n",
      "Testing city number 508. tessalit found.\n",
      "Testing city number 509. makakilo city found.\n",
      "Testing city number 510. chapais found.\n",
      "could not find sorvag.\n",
      "Testing city number 512. crossville found.\n",
      "Testing city number 513. balkhash found.\n",
      "Testing city number 514. praia found.\n",
      "Testing city number 515. north bend found.\n",
      "Testing city number 516. soller found.\n",
      "could not find chagda.\n",
      "Testing city number 518. aykhal found.\n",
      "Testing city number 519. inhambane found.\n",
      "Testing city number 520. khorinsk found.\n",
      "Testing city number 521. waddan found.\n",
      "Testing city number 522. mehamn found.\n",
      "Testing city number 523. poli found.\n",
      "Testing city number 524. gillette found.\n",
      "Testing city number 525. deputatskiy found.\n",
      "Testing city number 526. atasu found.\n",
      "Testing city number 527. kidal found.\n",
      "Testing city number 528. rensvik found.\n",
      "Testing city number 529. nabire found.\n",
      "Testing city number 530. mnogovershinnyy found.\n",
      "Testing city number 531. sulangan found.\n",
      "Testing city number 532. polis found.\n",
      "Testing city number 533. airai found.\n",
      "Testing city number 534. sept-iles found.\n",
      "Testing city number 535. kvitok found.\n",
      "Testing city number 536. chivolo found.\n",
      "Testing city number 537. bantogon found.\n",
      "Testing city number 538. kalmunai found.\n",
      "Testing city number 539. mtsensk found.\n",
      "Testing city number 540. mana found.\n",
      "Testing city number 541. felanitx found.\n",
      "Testing city number 542. khilok found.\n",
      "Testing city number 543. taft found.\n",
      "Testing city number 544. seddon found.\n",
      "Testing city number 545. lusambo found.\n",
      "Testing city number 546. bubaque found.\n",
      "Testing city number 547. buenos aires found.\n",
      "Testing city number 548. meulaboh found.\n",
      "Testing city number 549. lasa found.\n",
      "Testing city number 550. vila velha found.\n",
      "Testing city number 551. moravsky krumlov found.\n",
      "Testing city number 552. batken found.\n",
      "Testing city number 553. asyut found.\n",
      "Testing city number 554. lundazi found.\n",
      "Testing city number 555. yanam found.\n",
      "Testing city number 556. radzyn podlaski found.\n",
      "Testing city number 557. durban found.\n",
      "Testing city number 558. bandar-e lengeh found.\n",
      "Testing city number 559. smidovich found.\n",
      "Testing city number 560. strzelin found.\n",
      "Testing city number 561. markova found.\n",
      "Testing city number 562. gushikawa found.\n",
      "Testing city number 563. marechal candido rondon found.\n",
      "Testing city number 564. krasnoselkup found.\n",
      "Testing city number 565. santo tomas found.\n",
      "Testing city number 566. mbaiki found.\n",
      "Testing city number 567. la plata found.\n",
      "Testing city number 568. san jose de guanipa found.\n",
      "Testing city number 569. hagere hiywet found.\n",
      "Testing city number 570. uyskoye found.\n",
      "Testing city number 571. egvekinot found.\n",
      "Testing city number 572. pachino found.\n",
      "Testing city number 573. kerema found.\n",
      "Testing city number 574. severo-kurilsk found.\n",
      "Testing city number 575. vanimo found.\n",
      "Testing city number 576. bonavista found.\n",
      "Testing city number 577. puhja found.\n",
      "Testing city number 578. keetmanshoop found.\n",
      "Testing city number 579. cockburn town found.\n",
      "Testing city number 580. lodwar found.\n",
      "Testing city number 581. kawalu found.\n",
      "Testing city number 582. limon found.\n",
      "Testing city number 583. harqalah found.\n",
      "Testing city number 584. vestmannaeyjar found.\n",
      "Testing city number 585. lensk found.\n",
      "Testing city number 586. hay river found.\n",
      "Testing city number 587. dudinka found.\n",
      "Testing city number 588. faya found.\n",
      "Testing city number 589. gainesville found.\n",
      "Testing city number 590. leningradskiy found.\n",
      "Testing city number 591. asaka found.\n",
      "Testing city number 592. kamaishi found.\n",
      "Testing city number 593. guhagar found.\n",
      "Testing city number 594. tigil found.\n",
      "Testing city number 595. kommunisticheskiy found.\n",
      "Testing city number 596. khuzdar found.\n",
      "Testing city number 597. amapa found.\n",
      "Testing city number 598. santa maria da boa vista found.\n",
      "Testing city number 599. kindu found.\n",
      "Testing city number 600. gat found.\n",
      "Testing city number 601. belmonte found.\n",
      "Testing city number 602. quatre cocos found.\n",
      "Testing city number 603. jishui found.\n",
      "Testing city number 604. weihe found.\n",
      "Testing city number 605. nakhon si thammarat found.\n",
      "Testing city number 606. lakes entrance found.\n",
      "Testing city number 607. antalaha found.\n",
      "Testing city number 608. dodge city found.\n",
      "Testing city number 609. reggio di calabria found.\n",
      "Testing city number 610. horta found.\n",
      "Testing city number 611. flin flon found.\n",
      "could not find vaitupu.\n",
      "Testing city number 613. namtsy found.\n",
      "Testing city number 614. hamilton found.\n",
      "Testing city number 615. fukue found.\n",
      "Testing city number 616. kulhudhuffushi found.\n",
      "Testing city number 617. esil found.\n"
     ]
    },
    {
     "name": "stdout",
     "output_type": "stream",
     "text": [
      "Testing city number 618. bourail found.\n",
      "Testing city number 619. lisakovsk found.\n",
      "Testing city number 620. lorengau found.\n",
      "Testing city number 621. ganganagar found.\n",
      "Testing city number 622. dhidhdhoo found.\n",
      "Testing city number 623. borovichi found.\n",
      "Testing city number 624. yeppoon found.\n",
      "Testing city number 625. domoni found.\n",
      "Testing city number 626. leh found.\n",
      "Testing city number 627. khatima found.\n",
      "Testing city number 628. tiarei found.\n",
      "Testing city number 629. katobu found.\n",
      "Testing city number 630. cascais found.\n",
      "Testing city number 631. dingle found.\n",
      "Testing city number 632. thinadhoo found.\n",
      "Testing city number 633. bilibino found.\n",
      "Testing city number 634. iqaluit found.\n",
      "Testing city number 635. namatanai found.\n",
      "Testing city number 636. grand gaube found.\n",
      "Testing city number 637. conceicao da barra found.\n",
      "Testing city number 638. jinchang found.\n",
      "Testing city number 639. zonguldak found.\n",
      "Testing city number 640. marsa matruh found.\n",
      "Testing city number 641. maraba found.\n",
      "Testing city number 642. seoul found.\n",
      "Testing city number 643. acapulco found.\n",
      "Testing city number 644. marabba found.\n",
      "Testing city number 645. camana found.\n",
      "Testing city number 646. biak found.\n",
      "Testing city number 647. leeton found.\n",
      "Testing city number 648. portland found.\n"
     ]
    }
   ],
   "source": [
    "\n",
    "\n",
    "name = []\n",
    "Lat = []\n",
    "Lng = []\n",
    "Max_Temp = []\n",
    "Humidity = []\n",
    "Cloudiness = []\n",
    "Wind_Speed = []\n",
    "Country = []\n",
    "Date = []\n",
    "for city in range(len(cities)):\n",
    "    try:\n",
    "        response = requests.get(\"http://api.openweathermap.org/data/2.5/weather?q=\"+cities[city]+\"&appid=\" + weather_api_key).json()\n",
    "        city_name = response[\"name\"]\n",
    "        latitude = response[\"coord\"][\"lat\"]\n",
    "        longitude = response[\"coord\"][\"lon\"]\n",
    "        temp = response[\"main\"][\"temp_max\"]\n",
    "        hum = response[\"main\"][\"humidity\"]\n",
    "        cloud = response[\"clouds\"][\"all\"]\n",
    "        count = response[\"sys\"][\"country\"]\n",
    "        speed = response[\"wind\"][\"speed\"]\n",
    "        dt = response[\"dt\"]\n",
    "        \n",
    "        name.append(city_name)\n",
    "        Lat.append(latitude)\n",
    "        Lng.append(longitude)\n",
    "        Max_Temp.append(temp)\n",
    "        Humidity.append(hum)\n",
    "        Cloudiness.append(cloud)\n",
    "        Country.append(count)\n",
    "        Wind_Speed.append(speed)\n",
    "        Date.append(dt)\n",
    "        print(\"Testing city number \" + str(city) + \". \" + cities[city] + \" found.\")\n",
    "    except:\n",
    "        print(\"could not find \" +cities[city]+ \".\")\n",
    "\n",
    "        \n"
   ]
  },
  {
   "cell_type": "markdown",
   "metadata": {},
   "source": [
    "### Convert Raw Data to DataFrame\n",
    "* Export the city data into a .csv.\n",
    "* Display the DataFrame"
   ]
  },
  {
   "cell_type": "code",
   "execution_count": 11,
   "metadata": {},
   "outputs": [
    {
     "name": "stdout",
     "output_type": "stream",
     "text": [
      "602\n",
      "602\n",
      "602\n",
      "602\n",
      "602\n",
      "602\n",
      "602\n",
      "602\n",
      "602\n"
     ]
    }
   ],
   "source": [
    "print(len(name)) \n",
    "print(len(Lat)) \n",
    "print(len(Lng)) \n",
    "print(len(Max_Temp)) \n",
    "print(len(Humidity)) \n",
    "print(len(Cloudiness)) \n",
    "print(len(Wind_Speed)) \n",
    "print(len(Country)) \n",
    "print(len(Date))\n"
   ]
  },
  {
   "cell_type": "code",
   "execution_count": 13,
   "metadata": {
    "scrolled": true
   },
   "outputs": [
    {
     "data": {
      "text/html": [
       "<div>\n",
       "<style scoped>\n",
       "    .dataframe tbody tr th:only-of-type {\n",
       "        vertical-align: middle;\n",
       "    }\n",
       "\n",
       "    .dataframe tbody tr th {\n",
       "        vertical-align: top;\n",
       "    }\n",
       "\n",
       "    .dataframe thead th {\n",
       "        text-align: right;\n",
       "    }\n",
       "</style>\n",
       "<table border=\"1\" class=\"dataframe\">\n",
       "  <thead>\n",
       "    <tr style=\"text-align: right;\">\n",
       "      <th></th>\n",
       "      <th>City</th>\n",
       "      <th>Lat</th>\n",
       "      <th>Lng</th>\n",
       "      <th>Max_Temp</th>\n",
       "      <th>Humidity</th>\n",
       "      <th>Cloudiness</th>\n",
       "      <th>Wind_Speed</th>\n",
       "      <th>Country</th>\n",
       "      <th>Date</th>\n",
       "    </tr>\n",
       "  </thead>\n",
       "  <tbody>\n",
       "    <tr>\n",
       "      <th>0</th>\n",
       "      <td>Praxédis Guerrero</td>\n",
       "      <td>31.37</td>\n",
       "      <td>-106.02</td>\n",
       "      <td>295.15</td>\n",
       "      <td>13</td>\n",
       "      <td>5</td>\n",
       "      <td>1.48</td>\n",
       "      <td>MX</td>\n",
       "      <td>1603252043</td>\n",
       "    </tr>\n",
       "    <tr>\n",
       "      <th>1</th>\n",
       "      <td>Nidzica</td>\n",
       "      <td>53.36</td>\n",
       "      <td>20.43</td>\n",
       "      <td>280.15</td>\n",
       "      <td>93</td>\n",
       "      <td>40</td>\n",
       "      <td>3.60</td>\n",
       "      <td>PL</td>\n",
       "      <td>1603252044</td>\n",
       "    </tr>\n",
       "    <tr>\n",
       "      <th>2</th>\n",
       "      <td>Barrow</td>\n",
       "      <td>71.29</td>\n",
       "      <td>-156.79</td>\n",
       "      <td>271.15</td>\n",
       "      <td>86</td>\n",
       "      <td>90</td>\n",
       "      <td>5.70</td>\n",
       "      <td>US</td>\n",
       "      <td>1603252044</td>\n",
       "    </tr>\n",
       "    <tr>\n",
       "      <th>3</th>\n",
       "      <td>Hermanus</td>\n",
       "      <td>-34.42</td>\n",
       "      <td>19.23</td>\n",
       "      <td>283.71</td>\n",
       "      <td>84</td>\n",
       "      <td>0</td>\n",
       "      <td>0.89</td>\n",
       "      <td>ZA</td>\n",
       "      <td>1603252044</td>\n",
       "    </tr>\n",
       "    <tr>\n",
       "      <th>4</th>\n",
       "      <td>Abrau-Dyurso</td>\n",
       "      <td>44.69</td>\n",
       "      <td>37.59</td>\n",
       "      <td>281.15</td>\n",
       "      <td>75</td>\n",
       "      <td>40</td>\n",
       "      <td>2.00</td>\n",
       "      <td>RU</td>\n",
       "      <td>1603252045</td>\n",
       "    </tr>\n",
       "  </tbody>\n",
       "</table>\n",
       "</div>"
      ],
      "text/plain": [
       "                City    Lat     Lng  Max_Temp  Humidity  Cloudiness  \\\n",
       "0  Praxédis Guerrero  31.37 -106.02    295.15        13           5   \n",
       "1            Nidzica  53.36   20.43    280.15        93          40   \n",
       "2             Barrow  71.29 -156.79    271.15        86          90   \n",
       "3           Hermanus -34.42   19.23    283.71        84           0   \n",
       "4       Abrau-Dyurso  44.69   37.59    281.15        75          40   \n",
       "\n",
       "   Wind_Speed Country        Date  \n",
       "0        1.48      MX  1603252043  \n",
       "1        3.60      PL  1603252044  \n",
       "2        5.70      US  1603252044  \n",
       "3        0.89      ZA  1603252044  \n",
       "4        2.00      RU  1603252045  "
      ]
     },
     "execution_count": 13,
     "metadata": {},
     "output_type": "execute_result"
    }
   ],
   "source": [
    "data = pd.DataFrame({\"City\": name,\n",
    "                     \"Lat\": Lat,\n",
    "                     \"Lng\": Lng,\n",
    "                     \"Max_Temp\": Max_Temp,\n",
    "                     \"Humidity\": Humidity,\n",
    "                     \"Cloudiness\": Cloudiness,\n",
    "                     \"Wind_Speed\": Wind_Speed,\n",
    "                     \"Country\": Country,\n",
    "                     \"Date\": Date})\n",
    "data.head()"
   ]
  },
  {
   "cell_type": "code",
   "execution_count": 14,
   "metadata": {},
   "outputs": [],
   "source": [
    "data.to_csv(\"../output_data/cities.csv\")"
   ]
  },
  {
   "cell_type": "markdown",
   "metadata": {},
   "source": [
    "## Inspect the data and remove the cities where the humidity > 100%.\n",
    "----\n",
    "Skip this step if there are no cities that have humidity > 100%. "
   ]
  },
  {
   "cell_type": "code",
   "execution_count": 16,
   "metadata": {},
   "outputs": [
    {
     "data": {
      "text/plain": [
       "array([ 13,  93,  86,  84,  75,  69,  83,  94,  60,  70,  61,  92,  68,\n",
       "        19,  88,  85,  72,  48,  50,  97,  58,  80, 100,  22,  76,  87,\n",
       "        67,  81,  32,  55,  63,  73,  59,  66,  98,  51,  95,  25,  79,\n",
       "        78,  28,  34,  71,  74,  96,  21,  89,  57,  47,  65,  26,  56,\n",
       "        54,  49,  40,  24,  29,  62,  42,  52,  38,  77,  82,  35,  64,\n",
       "        91,  23,  20,  31,  37,  53,  90,  16,  44,  41,  12,  99,  30,\n",
       "        36,  18,  45,  17,  14,  39], dtype=int64)"
      ]
     },
     "execution_count": 16,
     "metadata": {},
     "output_type": "execute_result"
    }
   ],
   "source": [
    "data[\"Humidity\"].unique()"
   ]
  },
  {
   "cell_type": "code",
   "execution_count": null,
   "metadata": {},
   "outputs": [],
   "source": [
    "#  Get the indices of cities that have humidity over 100%.\n"
   ]
  },
  {
   "cell_type": "code",
   "execution_count": null,
   "metadata": {},
   "outputs": [],
   "source": [
    "# Make a new DataFrame equal to the city data to drop all humidity outliers by index.\n",
    "# Passing \"inplace=False\" will make a copy of the city_data DataFrame, which we call \"clean_city_data\".\n"
   ]
  },
  {
   "cell_type": "code",
   "execution_count": null,
   "metadata": {},
   "outputs": [],
   "source": [
    "\n"
   ]
  },
  {
   "cell_type": "markdown",
   "metadata": {},
   "source": [
    "## Plotting the Data\n",
    "* Use proper labeling of the plots using plot titles (including date of analysis) and axes labels.\n",
    "* Save the plotted figures as .pngs."
   ]
  },
  {
   "cell_type": "markdown",
   "metadata": {},
   "source": [
    "## Latitude vs. Temperature Plot"
   ]
  },
  {
   "cell_type": "code",
   "execution_count": 23,
   "metadata": {
    "scrolled": true
   },
   "outputs": [
    {
     "data": {
      "text/plain": [
       "Text(0.5, 1.0, 'Temperature (F) vs. Latitude')"
      ]
     },
     "execution_count": 23,
     "metadata": {},
     "output_type": "execute_result"
    },
    {
     "data": {
      "image/png": "[encoded data removed]",
      "text/plain": [
       "<Figure size 432x288 with 1 Axes>"
      ]
     },
     "metadata": {
      "needs_background": "light"
     },
     "output_type": "display_data"
    }
   ],
   "source": [
    "data.plot.scatter(x = \"Lat\", y = \"Max_Temp\")\n",
    "plt.title(\"Temperature (F) vs. Latitude\")\n",
    "plt.savefig(\"../output_data/Fig1.png\")"
   ]
  },
  {
   "cell_type": "markdown",
   "metadata": {},
   "source": [
    "## Latitude vs. Humidity Plot"
   ]
  },
  {
   "cell_type": "code",
   "execution_count": 24,
   "metadata": {},
   "outputs": [
    {
     "data": {
      "text/plain": [
       "Text(0.5, 1.0, 'Humidity (%) vs. Latitude')"
      ]
     },
     "execution_count": 24,
     "metadata": {},
     "output_type": "execute_result"
    },
    {
     "data": {
      "image/png": "[encoded data removed]",
      "text/plain": [
       "<Figure size 432x288 with 1 Axes>"
      ]
     },
     "metadata": {
      "needs_background": "light"
     },
     "output_type": "display_data"
    }
   ],
   "source": [
    "data.plot.scatter(x = \"Lat\", y = \"Humidity\")\n",
    "plt.title(\"Humidity (%) vs. Latitude\")\n",
    "plt.savefig(\"../output_data/Fig2.png\")"
   ]
  },
  {
   "cell_type": "markdown",
   "metadata": {},
   "source": [
    "## Latitude vs. Cloudiness Plot"
   ]
  },
  {
   "cell_type": "code",
   "execution_count": 25,
   "metadata": {},
   "outputs": [
    {
     "data": {
      "text/plain": [
       "Text(0.5, 1.0, 'Cloudiness (%) vs. Latitude')"
      ]
     },
     "execution_count": 25,
     "metadata": {},
     "output_type": "execute_result"
    },
    {
     "data": {
      "image/png": "[encoded data removed]",
      "text/plain": [
       "<Figure size 432x288 with 1 Axes>"
      ]
     },
     "metadata": {
      "needs_background": "light"
     },
     "output_type": "display_data"
    }
   ],
   "source": [
    "data.plot.scatter(x = \"Lat\", y = \"Cloudiness\")\n",
    "plt.title(\"Cloudiness (%) vs. Latitude\")\n",
    "plt.savefig(\"../output_data/Fig3.png\")"
   ]
  },
  {
   "cell_type": "markdown",
   "metadata": {},
   "source": [
    "## Latitude vs. Wind Speed Plot"
   ]
  },
  {
   "cell_type": "code",
   "execution_count": 26,
   "metadata": {},
   "outputs": [
    {
     "data": {
      "text/plain": [
       "Text(0.5, 1.0, 'Wind Speed (mph) vs. Latitude')"
      ]
     },
     "execution_count": 26,
     "metadata": {},
     "output_type": "execute_result"
    },
    {
     "data": {
      "image/png": "[encoded data removed]",
      "text/plain": [
       "<Figure size 432x288 with 1 Axes>"
      ]
     },
     "metadata": {
      "needs_background": "light"
     },
     "output_type": "display_data"
    }
   ],
   "source": [
    "data.plot.scatter(x = \"Lat\", y = \"Wind_Speed\")\n",
    "plt.title(\"Wind Speed (mph) vs. Latitude\")\n",
    "plt.savefig(\"../output_data/Fig4.png\")"
   ]
  },
  {
   "cell_type": "markdown",
   "metadata": {},
   "source": [
    "## Linear Regression"
   ]
  },
  {
   "cell_type": "code",
   "execution_count": 28,
   "metadata": {},
   "outputs": [
    {
     "data": {
      "text/html": [
       "<div>\n",
       "<style scoped>\n",
       "    .dataframe tbody tr th:only-of-type {\n",
       "        vertical-align: middle;\n",
       "    }\n",
       "\n",
       "    .dataframe tbody tr th {\n",
       "        vertical-align: top;\n",
       "    }\n",
       "\n",
       "    .dataframe thead th {\n",
       "        text-align: right;\n",
       "    }\n",
       "</style>\n",
       "<table border=\"1\" class=\"dataframe\">\n",
       "  <thead>\n",
       "    <tr style=\"text-align: right;\">\n",
       "      <th></th>\n",
       "      <th>City</th>\n",
       "      <th>Lat</th>\n",
       "      <th>Lng</th>\n",
       "      <th>Max_Temp</th>\n",
       "      <th>Humidity</th>\n",
       "      <th>Cloudiness</th>\n",
       "      <th>Wind_Speed</th>\n",
       "      <th>Country</th>\n",
       "      <th>Date</th>\n",
       "    </tr>\n",
       "  </thead>\n",
       "  <tbody>\n",
       "    <tr>\n",
       "      <th>3</th>\n",
       "      <td>Hermanus</td>\n",
       "      <td>-34.42</td>\n",
       "      <td>19.23</td>\n",
       "      <td>283.71</td>\n",
       "      <td>84</td>\n",
       "      <td>0</td>\n",
       "      <td>0.89</td>\n",
       "      <td>ZA</td>\n",
       "      <td>1603252044</td>\n",
       "    </tr>\n",
       "    <tr>\n",
       "      <th>8</th>\n",
       "      <td>Ushuaia</td>\n",
       "      <td>-54.80</td>\n",
       "      <td>-68.30</td>\n",
       "      <td>277.15</td>\n",
       "      <td>86</td>\n",
       "      <td>100</td>\n",
       "      <td>3.60</td>\n",
       "      <td>AR</td>\n",
       "      <td>1603252046</td>\n",
       "    </tr>\n",
       "    <tr>\n",
       "      <th>12</th>\n",
       "      <td>Mataura</td>\n",
       "      <td>-46.19</td>\n",
       "      <td>168.86</td>\n",
       "      <td>286.48</td>\n",
       "      <td>61</td>\n",
       "      <td>23</td>\n",
       "      <td>6.71</td>\n",
       "      <td>NZ</td>\n",
       "      <td>1603252047</td>\n",
       "    </tr>\n",
       "    <tr>\n",
       "      <th>14</th>\n",
       "      <td>Busselton</td>\n",
       "      <td>-33.65</td>\n",
       "      <td>115.33</td>\n",
       "      <td>292.04</td>\n",
       "      <td>68</td>\n",
       "      <td>18</td>\n",
       "      <td>2.68</td>\n",
       "      <td>AU</td>\n",
       "      <td>1603252047</td>\n",
       "    </tr>\n",
       "    <tr>\n",
       "      <th>16</th>\n",
       "      <td>Port Elizabeth</td>\n",
       "      <td>-33.92</td>\n",
       "      <td>25.57</td>\n",
       "      <td>281.15</td>\n",
       "      <td>93</td>\n",
       "      <td>3</td>\n",
       "      <td>1.50</td>\n",
       "      <td>ZA</td>\n",
       "      <td>1603252048</td>\n",
       "    </tr>\n",
       "  </tbody>\n",
       "</table>\n",
       "</div>"
      ],
      "text/plain": [
       "              City    Lat     Lng  Max_Temp  Humidity  Cloudiness  Wind_Speed  \\\n",
       "3         Hermanus -34.42   19.23    283.71        84           0        0.89   \n",
       "8          Ushuaia -54.80  -68.30    277.15        86         100        3.60   \n",
       "12         Mataura -46.19  168.86    286.48        61          23        6.71   \n",
       "14       Busselton -33.65  115.33    292.04        68          18        2.68   \n",
       "16  Port Elizabeth -33.92   25.57    281.15        93           3        1.50   \n",
       "\n",
       "   Country        Date  \n",
       "3       ZA  1603252044  \n",
       "8       AR  1603252046  \n",
       "12      NZ  1603252047  \n",
       "14      AU  1603252047  \n",
       "16      ZA  1603252048  "
      ]
     },
     "execution_count": 28,
     "metadata": {},
     "output_type": "execute_result"
    }
   ],
   "source": [
    "North_data = data[data[\"Lat\"] >= 0]\n",
    "North_data.head()\n",
    "South_data = data[data[\"Lat\"] < 0]\n",
    "South_data.head()"
   ]
  },
  {
   "cell_type": "code",
   "execution_count": 43,
   "metadata": {},
   "outputs": [],
   "source": [
    "def linear_regression(x, y, x_label, y_label, title):\n",
    "    plt.scatter(x, y)\n",
    "    slope, intercept, r_value, p_value, std_err = linregress(x, y)\n",
    "    plt.plot(x, slope*x + intercept, \"r-\")\n",
    "    plt.xlabel(x_label)\n",
    "    plt.ylabel(y_label)\n",
    "    plt.title(title)\n",
    "    plt.show()"
   ]
  },
  {
   "cell_type": "markdown",
   "metadata": {},
   "source": [
    "####  Northern Hemisphere - Max Temp vs. Latitude Linear Regression"
   ]
  },
  {
   "cell_type": "code",
   "execution_count": 44,
   "metadata": {},
   "outputs": [
    {
     "data": {
      "image/png": "[encoded data removed]",
      "text/plain": [
       "<Figure size 432x288 with 1 Axes>"
      ]
     },
     "metadata": {
      "needs_background": "light"
     },
     "output_type": "display_data"
    }
   ],
   "source": [
    "\n",
    "linear_regression(North_data[\"Lat\"], North_data[\"Max_Temp\"], \"Lat\", \"Temp\", \"Lat v Temp\")"
   ]
  },
  {
   "cell_type": "markdown",
   "metadata": {},
   "source": [
    "####  Southern Hemisphere - Max Temp vs. Latitude Linear Regression"
   ]
  },
  {
   "cell_type": "code",
   "execution_count": null,
   "metadata": {},
   "outputs": [],
   "source": [
    "linear_regression(South_data[\"Lat\"], N_data[\"Max_Temp\"], \"Lat\", \"Temp\", \"Lat v Temp\")"
   ]
  },
  {
   "cell_type": "markdown",
   "metadata": {},
   "source": [
    "####  Northern Hemisphere - Humidity (%) vs. Latitude Linear Regression"
   ]
  },
  {
   "cell_type": "code",
   "execution_count": null,
   "metadata": {},
   "outputs": [],
   "source": []
  },
  {
   "cell_type": "markdown",
   "metadata": {},
   "source": [
    "####  Southern Hemisphere - Humidity (%) vs. Latitude Linear Regression"
   ]
  },
  {
   "cell_type": "code",
   "execution_count": null,
   "metadata": {},
   "outputs": [],
   "source": []
  },
  {
   "cell_type": "markdown",
   "metadata": {},
   "source": [
    "####  Northern Hemisphere - Cloudiness (%) vs. Latitude Linear Regression"
   ]
  },
  {
   "cell_type": "code",
   "execution_count": null,
   "metadata": {},
   "outputs": [],
   "source": []
  },
  {
   "cell_type": "markdown",
   "metadata": {},
   "source": [
    "####  Southern Hemisphere - Cloudiness (%) vs. Latitude Linear Regression"
   ]
  },
  {
   "cell_type": "code",
   "execution_count": null,
   "metadata": {},
   "outputs": [],
   "source": []
  },
  {
   "cell_type": "markdown",
   "metadata": {},
   "source": [
    "####  Northern Hemisphere - Wind Speed (mph) vs. Latitude Linear Regression"
   ]
  },
  {
   "cell_type": "code",
   "execution_count": null,
   "metadata": {},
   "outputs": [],
   "source": []
  },
  {
   "cell_type": "markdown",
   "metadata": {},
   "source": [
    "####  Southern Hemisphere - Wind Speed (mph) vs. Latitude Linear Regression"
   ]
  },
  {
   "cell_type": "code",
   "execution_count": null,
   "metadata": {},
   "outputs": [],
   "source": []
  },
  {
   "cell_type": "code",
   "execution_count": null,
   "metadata": {},
   "outputs": [],
   "source": []
  }
 ],
 "metadata": {
  "anaconda-cloud": {},
  "kernel_info": {
   "name": "python3"
  },
  "kernelspec": {
   "display_name": "Python [conda env:PythonData] *",
   "language": "python",
   "name": "conda-env-PythonData-py"
  },
  "language_info": {
   "codemirror_mode": {
    "name": "ipython",
    "version": 3
   },
   "file_extension": ".py",
   "mimetype": "text/x-python",
   "name": "python",
   "nbconvert_exporter": "python",
   "pygments_lexer": "ipython3",
   "version": "3.7.1"
  },
  "latex_envs": {
   "LaTeX_envs_menu_present": true,
   "autoclose": false,
   "autocomplete": true,
   "bibliofile": "biblio.bib",
   "cite_by": "apalike",
   "current_citInitial": 1,
   "eqLabelWithNumbers": true,
   "eqNumInitial": 1,
   "hotkeys": {
    "equation": "Ctrl-E",
    "itemize": "Ctrl-I"
   },
   "labels_anchors": false,
   "latex_user_defs": false,
   "report_style_numbering": false,
   "user_envs_cfg": false
  },
  "nteract": {
   "version": "0.12.3"
  }
 },
 "nbformat": 4,
 "nbformat_minor": 2
}
